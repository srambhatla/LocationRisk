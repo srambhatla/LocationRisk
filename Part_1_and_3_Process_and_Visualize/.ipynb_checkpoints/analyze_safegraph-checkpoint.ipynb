{
 "cells": [
  {
   "cell_type": "code",
   "execution_count": 1,
   "metadata": {},
   "outputs": [],
   "source": [
    "import pyarrow\n",
    "import gc\n",
    "import pyarrow.parquet as pq\n",
    "import pandas as pd\n",
    "import pickle\n",
    "\n",
    "import numpy as np\n",
    "import seaborn as sns\n",
    "import geopandas as gpd\n",
    "import matplotlib.pyplot as plt\n",
    "from geopy.distance import great_circle, distance\n",
    "from sklearn.cluster import KMeans\n",
    "from scipy import stats\n",
    "import random\n",
    "\n",
    "import folium\n",
    "import json\n",
    "from folium import plugins\n",
    "from folium.plugins import HeatMap\n",
    "\n",
    "import datetime\n",
    "from pytz import timezone\n",
    "\n",
    "%matplotlib inline\n",
    "\n",
    "# Macros\n",
    "NUM_COLORS = 15\n",
    "NUM_DAYS = 31"
   ]
  },
  {
   "cell_type": "code",
   "execution_count": null,
   "metadata": {},
   "outputs": [],
   "source": []
  },
  {
   "cell_type": "code",
   "execution_count": 2,
   "metadata": {},
   "outputs": [],
   "source": [
    "month = 'dec'\n",
    "city = 'LA'\n",
    "#df = pq.read_table(\"/secure/dataset/derived/sorted_and_filtered_\"+month+\"_\"+city+\".parquet\").to_pandas() \n",
    "df = pq.read_table(\"/tank/users/sirishar/data/sorted_and_filtered_\"+month+\"_\"+city+\".parquet\").to_pandas() \n",
    "#df = pd.read_parquet(\"/secure/dataset/derived/sorted_and_filtered_\"+month+\"_\"+city+\".parquet\", engine='pyarrow')\n",
    "\n",
    "#input_filename = '~/SpreadSimulation-v4-master/tests/test_1036800_432000_3600_0.0001_1_1000_1_0_0.1/infect_stat_res.txt'\n",
    "#chunk = pd.read_csv(input_filename, names=['time', 'infected_id', 'infected_by_id', 'lon', 'lat' ], delim_whitespace=True)"
   ]
  },
  {
   "cell_type": "code",
   "execution_count": 3,
   "metadata": {},
   "outputs": [
    {
     "ename": "MemoryError",
     "evalue": "Unable to allocate 12.4 GiB for an array with shape (1659498891,) and data type int64",
     "output_type": "error",
     "traceback": [
      "\u001b[0;31m---------------------------------------------------------------------------\u001b[0m",
      "\u001b[0;31mMemoryError\u001b[0m                               Traceback (most recent call last)",
      "\u001b[0;32m<ipython-input-3-02eed6f810a9>\u001b[0m in \u001b[0;36m<module>\u001b[0;34m\u001b[0m\n\u001b[1;32m      3\u001b[0m     \u001b[0musrs\u001b[0m \u001b[0;34m=\u001b[0m \u001b[0mdf\u001b[0m\u001b[0;34m[\u001b[0m\u001b[0;34m'id'\u001b[0m\u001b[0;34m]\u001b[0m\u001b[0;34m.\u001b[0m\u001b[0munique\u001b[0m\u001b[0;34m(\u001b[0m\u001b[0;34m)\u001b[0m\u001b[0;34m\u001b[0m\u001b[0;34m\u001b[0m\u001b[0m\n\u001b[1;32m      4\u001b[0m     \u001b[0musrs\u001b[0m \u001b[0;34m=\u001b[0m \u001b[0mnp\u001b[0m\u001b[0;34m.\u001b[0m\u001b[0mrandom\u001b[0m\u001b[0;34m.\u001b[0m\u001b[0mchoice\u001b[0m\u001b[0;34m(\u001b[0m\u001b[0musrs\u001b[0m\u001b[0;34m,\u001b[0m \u001b[0msize\u001b[0m\u001b[0;34m=\u001b[0m\u001b[0mint\u001b[0m\u001b[0;34m(\u001b[0m\u001b[0musrs\u001b[0m\u001b[0;34m.\u001b[0m\u001b[0mshape\u001b[0m\u001b[0;34m[\u001b[0m\u001b[0;36m0\u001b[0m\u001b[0;34m]\u001b[0m\u001b[0;34m*\u001b[0m\u001b[0msample_prop\u001b[0m\u001b[0;34m)\u001b[0m\u001b[0;34m)\u001b[0m\u001b[0;34m\u001b[0m\u001b[0;34m\u001b[0m\u001b[0m\n\u001b[0;32m----> 5\u001b[0;31m     \u001b[0mdf\u001b[0m \u001b[0;34m=\u001b[0m \u001b[0mdf\u001b[0m\u001b[0;34m.\u001b[0m\u001b[0mloc\u001b[0m\u001b[0;34m[\u001b[0m\u001b[0mdf\u001b[0m\u001b[0;34m[\u001b[0m\u001b[0;34m'id'\u001b[0m\u001b[0;34m]\u001b[0m\u001b[0;34m.\u001b[0m\u001b[0misin\u001b[0m\u001b[0;34m(\u001b[0m\u001b[0musrs\u001b[0m\u001b[0;34m)\u001b[0m\u001b[0;34m]\u001b[0m\u001b[0;34m\u001b[0m\u001b[0;34m\u001b[0m\u001b[0m\n\u001b[0m\u001b[1;32m      6\u001b[0m     \u001b[0mgc\u001b[0m\u001b[0;34m.\u001b[0m\u001b[0mcollect\u001b[0m\u001b[0;34m(\u001b[0m\u001b[0;34m)\u001b[0m\u001b[0;34m\u001b[0m\u001b[0;34m\u001b[0m\u001b[0m\n",
      "\u001b[0;32m~/anaconda3/lib/python3.8/site-packages/pandas/core/series.py\u001b[0m in \u001b[0;36misin\u001b[0;34m(self, values)\u001b[0m\n\u001b[1;32m   4292\u001b[0m         \u001b[0mName\u001b[0m\u001b[0;34m:\u001b[0m \u001b[0manimal\u001b[0m\u001b[0;34m,\u001b[0m \u001b[0mdtype\u001b[0m\u001b[0;34m:\u001b[0m \u001b[0mbool\u001b[0m\u001b[0;34m\u001b[0m\u001b[0;34m\u001b[0m\u001b[0m\n\u001b[1;32m   4293\u001b[0m         \"\"\"\n\u001b[0;32m-> 4294\u001b[0;31m         \u001b[0mresult\u001b[0m \u001b[0;34m=\u001b[0m \u001b[0malgorithms\u001b[0m\u001b[0;34m.\u001b[0m\u001b[0misin\u001b[0m\u001b[0;34m(\u001b[0m\u001b[0mself\u001b[0m\u001b[0;34m,\u001b[0m \u001b[0mvalues\u001b[0m\u001b[0;34m)\u001b[0m\u001b[0;34m\u001b[0m\u001b[0;34m\u001b[0m\u001b[0m\n\u001b[0m\u001b[1;32m   4295\u001b[0m         \u001b[0;32mreturn\u001b[0m \u001b[0mself\u001b[0m\u001b[0;34m.\u001b[0m\u001b[0m_constructor\u001b[0m\u001b[0;34m(\u001b[0m\u001b[0mresult\u001b[0m\u001b[0;34m,\u001b[0m \u001b[0mindex\u001b[0m\u001b[0;34m=\u001b[0m\u001b[0mself\u001b[0m\u001b[0;34m.\u001b[0m\u001b[0mindex\u001b[0m\u001b[0;34m)\u001b[0m\u001b[0;34m.\u001b[0m\u001b[0m__finalize__\u001b[0m\u001b[0;34m(\u001b[0m\u001b[0mself\u001b[0m\u001b[0;34m)\u001b[0m\u001b[0;34m\u001b[0m\u001b[0;34m\u001b[0m\u001b[0m\n\u001b[1;32m   4296\u001b[0m \u001b[0;34m\u001b[0m\u001b[0m\n",
      "\u001b[0;32m~/anaconda3/lib/python3.8/site-packages/pandas/core/algorithms.py\u001b[0m in \u001b[0;36misin\u001b[0;34m(comps, values)\u001b[0m\n\u001b[1;32m    451\u001b[0m             \u001b[0mcomps\u001b[0m \u001b[0;34m=\u001b[0m \u001b[0mcomps\u001b[0m\u001b[0;34m.\u001b[0m\u001b[0mastype\u001b[0m\u001b[0;34m(\u001b[0m\u001b[0mobject\u001b[0m\u001b[0;34m)\u001b[0m\u001b[0;34m\u001b[0m\u001b[0;34m\u001b[0m\u001b[0m\n\u001b[1;32m    452\u001b[0m \u001b[0;34m\u001b[0m\u001b[0m\n\u001b[0;32m--> 453\u001b[0;31m     \u001b[0;32mreturn\u001b[0m \u001b[0mf\u001b[0m\u001b[0;34m(\u001b[0m\u001b[0mcomps\u001b[0m\u001b[0;34m,\u001b[0m \u001b[0mvalues\u001b[0m\u001b[0;34m)\u001b[0m\u001b[0;34m\u001b[0m\u001b[0;34m\u001b[0m\u001b[0m\n\u001b[0m\u001b[1;32m    454\u001b[0m \u001b[0;34m\u001b[0m\u001b[0m\n\u001b[1;32m    455\u001b[0m \u001b[0;34m\u001b[0m\u001b[0m\n",
      "\u001b[0;32m<__array_function__ internals>\u001b[0m in \u001b[0;36min1d\u001b[0;34m(*args, **kwargs)\u001b[0m\n",
      "\u001b[0;32m~/anaconda3/lib/python3.8/site-packages/numpy/lib/arraysetops.py\u001b[0m in \u001b[0;36min1d\u001b[0;34m(ar1, ar2, assume_unique, invert)\u001b[0m\n\u001b[1;32m    572\u001b[0m     \u001b[0;31m# Otherwise use sorting\u001b[0m\u001b[0;34m\u001b[0m\u001b[0;34m\u001b[0m\u001b[0;34m\u001b[0m\u001b[0m\n\u001b[1;32m    573\u001b[0m     \u001b[0;32mif\u001b[0m \u001b[0;32mnot\u001b[0m \u001b[0massume_unique\u001b[0m\u001b[0;34m:\u001b[0m\u001b[0;34m\u001b[0m\u001b[0;34m\u001b[0m\u001b[0m\n\u001b[0;32m--> 574\u001b[0;31m         \u001b[0mar1\u001b[0m\u001b[0;34m,\u001b[0m \u001b[0mrev_idx\u001b[0m \u001b[0;34m=\u001b[0m \u001b[0mnp\u001b[0m\u001b[0;34m.\u001b[0m\u001b[0munique\u001b[0m\u001b[0;34m(\u001b[0m\u001b[0mar1\u001b[0m\u001b[0;34m,\u001b[0m \u001b[0mreturn_inverse\u001b[0m\u001b[0;34m=\u001b[0m\u001b[0;32mTrue\u001b[0m\u001b[0;34m)\u001b[0m\u001b[0;34m\u001b[0m\u001b[0;34m\u001b[0m\u001b[0m\n\u001b[0m\u001b[1;32m    575\u001b[0m         \u001b[0mar2\u001b[0m \u001b[0;34m=\u001b[0m \u001b[0mnp\u001b[0m\u001b[0;34m.\u001b[0m\u001b[0munique\u001b[0m\u001b[0;34m(\u001b[0m\u001b[0mar2\u001b[0m\u001b[0;34m)\u001b[0m\u001b[0;34m\u001b[0m\u001b[0;34m\u001b[0m\u001b[0m\n\u001b[1;32m    576\u001b[0m \u001b[0;34m\u001b[0m\u001b[0m\n",
      "\u001b[0;32m<__array_function__ internals>\u001b[0m in \u001b[0;36munique\u001b[0;34m(*args, **kwargs)\u001b[0m\n",
      "\u001b[0;32m~/anaconda3/lib/python3.8/site-packages/numpy/lib/arraysetops.py\u001b[0m in \u001b[0;36munique\u001b[0;34m(ar, return_index, return_inverse, return_counts, axis)\u001b[0m\n\u001b[1;32m    261\u001b[0m     \u001b[0mar\u001b[0m \u001b[0;34m=\u001b[0m \u001b[0mnp\u001b[0m\u001b[0;34m.\u001b[0m\u001b[0masanyarray\u001b[0m\u001b[0;34m(\u001b[0m\u001b[0mar\u001b[0m\u001b[0;34m)\u001b[0m\u001b[0;34m\u001b[0m\u001b[0;34m\u001b[0m\u001b[0m\n\u001b[1;32m    262\u001b[0m     \u001b[0;32mif\u001b[0m \u001b[0maxis\u001b[0m \u001b[0;32mis\u001b[0m \u001b[0;32mNone\u001b[0m\u001b[0;34m:\u001b[0m\u001b[0;34m\u001b[0m\u001b[0;34m\u001b[0m\u001b[0m\n\u001b[0;32m--> 263\u001b[0;31m         \u001b[0mret\u001b[0m \u001b[0;34m=\u001b[0m \u001b[0m_unique1d\u001b[0m\u001b[0;34m(\u001b[0m\u001b[0mar\u001b[0m\u001b[0;34m,\u001b[0m \u001b[0mreturn_index\u001b[0m\u001b[0;34m,\u001b[0m \u001b[0mreturn_inverse\u001b[0m\u001b[0;34m,\u001b[0m \u001b[0mreturn_counts\u001b[0m\u001b[0;34m)\u001b[0m\u001b[0;34m\u001b[0m\u001b[0;34m\u001b[0m\u001b[0m\n\u001b[0m\u001b[1;32m    264\u001b[0m         \u001b[0;32mreturn\u001b[0m \u001b[0m_unpack_tuple\u001b[0m\u001b[0;34m(\u001b[0m\u001b[0mret\u001b[0m\u001b[0;34m)\u001b[0m\u001b[0;34m\u001b[0m\u001b[0;34m\u001b[0m\u001b[0m\n\u001b[1;32m    265\u001b[0m \u001b[0;34m\u001b[0m\u001b[0m\n",
      "\u001b[0;32m~/anaconda3/lib/python3.8/site-packages/numpy/lib/arraysetops.py\u001b[0m in \u001b[0;36m_unique1d\u001b[0;34m(ar, return_index, return_inverse, return_counts)\u001b[0m\n\u001b[1;32m    306\u001b[0m \u001b[0;34m\u001b[0m\u001b[0m\n\u001b[1;32m    307\u001b[0m     \u001b[0;32mif\u001b[0m \u001b[0moptional_indices\u001b[0m\u001b[0;34m:\u001b[0m\u001b[0;34m\u001b[0m\u001b[0;34m\u001b[0m\u001b[0m\n\u001b[0;32m--> 308\u001b[0;31m         \u001b[0mperm\u001b[0m \u001b[0;34m=\u001b[0m \u001b[0mar\u001b[0m\u001b[0;34m.\u001b[0m\u001b[0margsort\u001b[0m\u001b[0;34m(\u001b[0m\u001b[0mkind\u001b[0m\u001b[0;34m=\u001b[0m\u001b[0;34m'mergesort'\u001b[0m \u001b[0;32mif\u001b[0m \u001b[0mreturn_index\u001b[0m \u001b[0;32melse\u001b[0m \u001b[0;34m'quicksort'\u001b[0m\u001b[0;34m)\u001b[0m\u001b[0;34m\u001b[0m\u001b[0;34m\u001b[0m\u001b[0m\n\u001b[0m\u001b[1;32m    309\u001b[0m         \u001b[0maux\u001b[0m \u001b[0;34m=\u001b[0m \u001b[0mar\u001b[0m\u001b[0;34m[\u001b[0m\u001b[0mperm\u001b[0m\u001b[0;34m]\u001b[0m\u001b[0;34m\u001b[0m\u001b[0;34m\u001b[0m\u001b[0m\n\u001b[1;32m    310\u001b[0m     \u001b[0;32melse\u001b[0m\u001b[0;34m:\u001b[0m\u001b[0;34m\u001b[0m\u001b[0;34m\u001b[0m\u001b[0m\n",
      "\u001b[0;31mMemoryError\u001b[0m: Unable to allocate 12.4 GiB for an array with shape (1659498891,) and data type int64"
     ]
    }
   ],
   "source": [
    "sample_prop = 0.1\n",
    "if sample_prop < 1:\n",
    "    usrs = df['id'].unique()\n",
    "    usrs = np.random.choice(usrs, size=int(usrs.shape[0]*sample_prop))\n",
    "    df = df.loc[df['id'].isin(usrs)]\n",
    "    gc.collect()"
   ]
  },
  {
   "cell_type": "code",
   "execution_count": null,
   "metadata": {},
   "outputs": [],
   "source": [
    "pwd"
   ]
  },
  {
   "cell_type": "code",
   "execution_count": null,
   "metadata": {},
   "outputs": [],
   "source": [
    "input_filename = '~/SpreadSimulation-v4-master/tests/test_1036800_432000_3600_0.0001_1_1000_1_0_0.1/infect_stat_res.txt'\n",
    "chunk = pd.read_csv(input_filename, names=['time', 'infected_id', 'infected_by_id', 'lon', 'lat' ], delim_whitespace=True)\n",
    "\n",
    "# 1. Decide the \"sensor\" locations (Kmeans on the observed points)\n",
    "\n",
    "data_pts = list(zip(df['lat'].values[0:100000], df['lon'].values[0:100000])) # Prep data\n",
    "kmeans = KMeans(n_clusters=NUM_COLORS, random_state=0).fit(data_pts) # fit kmeans\n",
    "\n",
    "tqdm.pandas()\n",
    "def calc_cluster(df):\n",
    "    if df.shape[0] > 1:\n",
    "        return kmeans.predict(list(zip(df['lat'].values, df['lon'].values)))\n",
    "    else:\n",
    "        return kmeans.predict([(df['lat'].values[0], df['lon'].values[0])])\n",
    "\n",
    "    \n",
    "begin_time = df['timestamp'].min()\n",
    "OD = np.zeros(shape=(NUM_DAYS, NUM_COLORS, NUM_COLORS))\n",
    "\n",
    "def add_od(trajectory):\n",
    "    clusters = calc_cluster(trajectory)\n",
    "    indx = np.array(((trajectory['timestamp']-begin_time)//(24*3600))[:-1]), clusters[:-1], clusters[1:]\n",
    "    OD[indx]+=1\n",
    "    return 0\n",
    "\n",
    "\n",
    "df.groupby('id').progress_apply(add_od)\n",
    "\n",
    "print(OD)\n",
    "#np.save('OD_matrix_'+month+'_'+city, OD)\n",
    "\n",
    "    \n",
    "def hourly_events(events_day, time, u, inf_usrs):\n",
    "    '''\n",
    "    Creates a vector of size 24, each element indicating where the user was.\n",
    "    Problem: what if the user is not anywhere!!\n",
    "    '''\n",
    "    X = []\n",
    "    events = events_day[events_day['id']==u]\n",
    "    \n",
    "    time_step_hour = 60*60\n",
    "    timestamps_unix = list(np.arange(time, time+24*time_step_hour, time_step_hour))\n",
    "    for t in timestamps_unix:\n",
    "        hr_events = events[(events['timestamp'] >= t) & (events['timestamp'] < t + time_step_hour)]\n",
    "        if hr_events.shape[0] > 0:\n",
    "            clus = calc_cluster(hr_events)\n",
    "            X.append(stats.mode(clus)[0][0])\n",
    "        else:\n",
    "            X.append(-1)        \n",
    "    if u in inf_usrs:\n",
    "        y = 1\n",
    "    else:\n",
    "        y = 0\n",
    "    return X, y\n",
    "\n",
    "def hourly_events_mat(events_day, time, u, inf_usrs):\n",
    "    '''\n",
    "    creates a matrix of size 24 x clusters, a 0 indicates the user is not in a cluster \n",
    "    at a particular hour, 1 otherwise.\n",
    "    '''\n",
    "    time_discrete = 1/4\n",
    "    X = np.zeros((int(24/time_discrete), NUM_COLORS))\n",
    "    \n",
    "    events = events_day[events_day['id']==u]\n",
    "    \n",
    "    time_step_hour = int(60*60)\n",
    "    timestamps_unix = list(np.arange(time, time+24*time_step_hour, int(time_step_hour*time_discrete)))\n",
    "    i = 0\n",
    "    \n",
    "    for t in timestamps_unix:\n",
    "        hr_events = events[(events['timestamp'] >= t) & (events['timestamp'] < t + int(time_step_hour*time_discrete))]\n",
    "        if hr_events.shape[0] > 0:\n",
    "        \n",
    "            clus = calc_cluster(hr_events)\n",
    "            X[i, stats.mode(clus)[0][0]] = 1\n",
    "            #X.append(stats.mode(clus)[0][0])\n",
    "        i = i + 1\n",
    "        #else:\n",
    "        #    X.append(-1)        \n",
    "    if u in inf_usrs:\n",
    "        y = 1\n",
    "    else:\n",
    "        y = 0\n",
    "    return X, y"
   ]
  },
  {
   "cell_type": "code",
   "execution_count": null,
   "metadata": {},
   "outputs": [],
   "source": [
    "CLUSTER_THR = 4 \n",
    "CHECKIN_THR = 1\n",
    "\n",
    "time_step = 24*60*60\n",
    "min_time = int(np.floor(min(chunk['time'])/time_step)*time_step) + 0*time_step\n",
    "max_time = int(np.ceil(max(chunk['time'])/time_step)*time_step)\n",
    "\n",
    "time_step_hour = 60*60\n",
    "#timestamps_unix = list(np.arange(min_time, min_time+1*time_step, time_step))\n",
    "timestamps_unix = list(np.arange(min_time, max_time+time_step, time_step))\n",
    "\n",
    "u_id = []\n",
    "X = []\n",
    "y = []\n",
    "\n",
    "i = 0 \n",
    "for time in timestamps_unix:\n",
    "    \n",
    "    events_day = df[(df['timestamp'] >= time) & (df['timestamp'] < time + time_step)]\n",
    "    inf_events_day = chunk[(chunk['time'] >= time) & (chunk['time'] < time + time_step)] \n",
    "    \n",
    "    print('Infection events: ', inf_events_day.shape[0])\n",
    "    \n",
    "    usrs = np.unique(events_day['id'].values)\n",
    "    inf_usrs = inf_events_day['infected_id'].values\n",
    "    \n",
    "    rnd_usrs = random.sample(list(usrs), inf_events_day.shape[0])\n",
    "    \n",
    "    for u in rnd_usrs:\n",
    "        if events_day[events_day['id']==u].shape[0] > CHECKIN_THR:\n",
    "            #X_u, y_u = hourly_events(events_day, time, u, inf_usrs)\n",
    "            X_u, y_u = hourly_events_mat(events_day, time, u, inf_usrs)\n",
    "            if (np.sum(X_u) > CLUSTER_THR) :\n",
    "                X.append(np.ravel(X_u))\n",
    "                y.append(y_u)\n",
    "                u_id.append(u)\n",
    "    \n",
    "    for u in inf_usrs:\n",
    "        if (u not in rnd_usrs) & (events_day[events_day['id']==u].shape[0] > CHECKIN_THR):\n",
    "            #X_u, y_u = hourly_events(events_day, time, u, inf_usrs)\n",
    "            X_u, y_u = hourly_events_mat(events_day, time, u, inf_usrs)\n",
    "            if (np.sum(X_u) > CLUSTER_THR):\n",
    "                X.append(np.ravel(X_u))\n",
    "                y.append(y_u)\n",
    "                u_id.append(u)\n",
    "    \n",
    "    i = i + 1\n",
    "    \n",
    "    print('Day ' + str(i) + ' complete!')\n",
    " \n"
   ]
  },
  {
   "cell_type": "code",
   "execution_count": null,
   "metadata": {},
   "outputs": [],
   "source": [
    "\n",
    "data_folder = \"/home/users/sirishar/analyze/data/\"\n",
    "daily_events_out_file = data_folder + \"processed_dataset_\" + str(NUM_COLORS)+ str('_') + str(datetime.datetime.now().strftime('%Y_%m_%d_%H_%M_%S')) + '.pkl'\n",
    "with open(daily_events_out_file, 'wb') as f:\n",
    "    pickle.dump({'X':X, 'y':y, 'u_id':u_id}, f, protocol=2)\n"
   ]
  },
  {
   "cell_type": "code",
   "execution_count": null,
   "metadata": {},
   "outputs": [],
   "source": []
  },
  {
   "cell_type": "code",
   "execution_count": null,
   "metadata": {},
   "outputs": [],
   "source": [
    "data_folder = \"/home/users/sirishar/analyze/data/\"\n",
    "daily_events_out_file = data_folder + 'processed_dataset_1502020_09_23_11_52_16.pkl'\n",
    "\n",
    "pickle_off = open(daily_events_out_file,\"rb\")\n",
    "data_pkl = pickle.load(pickle_off)\n",
    "X, y, u_id = data_pkl['X'], data_pkl['y'], data_pkl['u_id']\n",
    "print(daily_events_out_file)\n",
    "\n",
    "\n"
   ]
  },
  {
   "cell_type": "code",
   "execution_count": null,
   "metadata": {},
   "outputs": [],
   "source": [
    "from sklearn.model_selection import train_test_split\n",
    "from sklearn.linear_model import LogisticRegression\n",
    "from sklearn.metrics import roc_curve\n",
    "from sklearn.metrics import roc_auc_score\n",
    "\n",
    "X_train, X_test, y_train, y_test = train_test_split(X, y, test_size=0.2, random_state=34)\n",
    "#clf = LogisticRegression(random_state=0, penalty='elasticnet', solver='saga', l1_ratio=0.1).fit(X_train, y_train)\n",
    "clf = LogisticRegression(random_state=0, max_iter=400).fit(X_train, y_train)\n",
    "y_pred = clf.predict(X_test) \n",
    "#y_prob = clf.predict_proba(X_test)\n",
    "# predict probabilities\n",
    "lr_probs = clf.predict_proba(X_test)\n",
    "# keep probabilities for the positive outcome only\n",
    "lr_probs = lr_probs[:, 1]\n",
    "# calculate scores\n",
    "ns_probs = [0 for _ in range(len(y_test))]\n",
    "ns_auc = roc_auc_score(y_test, ns_probs)\n",
    "lr_auc = roc_auc_score(y_test, lr_probs)\n",
    "# summarize scores\n",
    "print('No Skill: ROC AUC=%.3f' % (ns_auc))\n",
    "print('Logistic: ROC AUC=%.3f' % (lr_auc))\n",
    "# calculate roc curves\n",
    "ns_fpr, ns_tpr, _ = roc_curve(y_test, ns_probs)\n",
    "lr_fpr, lr_tpr, _ = roc_curve(y_test, lr_probs)\n",
    "# plot the roc curve for the model\n",
    "plt.plot(ns_fpr, ns_tpr, linestyle='--', label='No Skill')\n",
    "plt.plot(lr_fpr, lr_tpr, marker='.', label='Logistic')\n",
    "# axis labels\n",
    "plt.xlabel('False Positive Rate')\n",
    "plt.ylabel('True Positive Rate')\n",
    "# show the legend\n",
    "plt.legend()\n",
    "# show the plot\n",
    "plt.show()"
   ]
  },
  {
   "cell_type": "code",
   "execution_count": null,
   "metadata": {},
   "outputs": [],
   "source": [
    "plt.imshow(np.reshape(clf.coef_, [96, 150]))"
   ]
  },
  {
   "cell_type": "code",
   "execution_count": null,
   "metadata": {},
   "outputs": [],
   "source": [
    "plt.imshow(np.reshape(X_u, [24*4,150]))\n"
   ]
  },
  {
   "cell_type": "code",
   "execution_count": null,
   "metadata": {},
   "outputs": [],
   "source": [
    "from sklearn.metrics import mean_squared_error, mean_absolute_error\n",
    "np.array(y).shape\n",
    "\n",
    "print(mean_squared_error(y_test, y_pred))\n",
    "#plt.plot(y_train)\n",
    "print(clf.score(X_test, y_test))\n",
    "y_pred_p = clf.predict_proba(X_test)\n",
    "\n",
    "print(1 - np.abs(y_test-y_pred).sum()/len(y_test))\n",
    "#plt.plot(y_test[0:10])\n",
    "#plt.plot(y_pred[0:10])"
   ]
  },
  {
   "cell_type": "code",
   "execution_count": null,
   "metadata": {},
   "outputs": [],
   "source": [
    "loc_zero = np.where(np.array(y_test) == 0)[0]\n",
    "loc_one = np.where(np.array(y_test) == 1)[0]"
   ]
  },
  {
   "cell_type": "code",
   "execution_count": null,
   "metadata": {},
   "outputs": [],
   "source": [
    "loc_one.shape"
   ]
  },
  {
   "cell_type": "code",
   "execution_count": null,
   "metadata": {},
   "outputs": [],
   "source": [
    "\n",
    "for i in random.sample(list(loc_zero), 10):\n",
    "    plt.imshow(np.reshape(np.array(X_test[i]), [96, 150]))\n",
    "    plt.show()\n"
   ]
  },
  {
   "cell_type": "code",
   "execution_count": null,
   "metadata": {},
   "outputs": [],
   "source": [
    "from sklearn import svm\n",
    "\n",
    "clf_svm = svm.SVC(kernel='poly')\n",
    "clf_svm.fit(X_train, y_train)\n",
    "\n",
    "y_pred = clf_svm.predict(X_test)\n",
    "print(clf_svm.score(X_test, y_test))\n",
    "print(1 - np.abs(y_test-y_pred).sum()/len(y_test))\n"
   ]
  },
  {
   "cell_type": "code",
   "execution_count": null,
   "metadata": {},
   "outputs": [],
   "source": [
    "plt.imshow(np.array(X_train[0:100]).T)"
   ]
  },
  {
   "cell_type": "code",
   "execution_count": null,
   "metadata": {},
   "outputs": [],
   "source": [
    "from sklearn import tree\n",
    "clft = tree.DecisionTreeClassifier()\n",
    "clft = clft.fit(X_train, y_train)\n",
    "y_pred_t = clft.predict(X_test)\n"
   ]
  },
  {
   "cell_type": "code",
   "execution_count": null,
   "metadata": {},
   "outputs": [],
   "source": [
    "mean_squared_error(y_test, y_pred_t)\n",
    "clft.score(X_test, y_test)"
   ]
  },
  {
   "cell_type": "code",
   "execution_count": null,
   "metadata": {},
   "outputs": [],
   "source": [
    "\n",
    "from collections import Counter\n",
    "usr_evnt_num = Counter(events_day['id'])\n",
    "plt.plot(np.sort(list(usr_evnt_num.values())))\n",
    "most_event_id = list(np.where(np.array(list(usr_evnt_num.values()))>2000.0))\n"
   ]
  },
  {
   "cell_type": "code",
   "execution_count": null,
   "metadata": {},
   "outputs": [],
   "source": [
    "most_event_id = list(np.where(np.array(list(usr_evnt_num.values()))>=0))\n",
    "inf_usrs = inf_events_day['infected_id'].values\n",
    "set(inf_usrs).issubset(most_event_id[0])"
   ]
  },
  {
   "cell_type": "markdown",
   "metadata": {},
   "source": [
    "### Density of infected users"
   ]
  },
  {
   "cell_type": "code",
   "execution_count": null,
   "metadata": {},
   "outputs": [],
   "source": [
    "\n",
    "input_filename = '~/SpreadSimulation-v4-master/tests/test_1036800_432000_3600_0.0001_1_1000_1_0_0.1/infect_stat_res.txt'\n",
    "chunk = pd.read_csv(input_filename, names=['time', 'infected_id', 'infected_by_id', 'lon', 'lat' ], delim_whitespace=True)\n",
    "time_step = 24*60*60\n",
    "time_res = 60*60*0.25\n",
    "\n",
    "inf_den = np.zeros([96, NUM_COLORS])\n",
    "\n",
    "min_time = int(np.floor(min(chunk.time)/time_step)*time_step)\n",
    "max_time = int(np.ceil(max(chunk.time)/time_step)*time_step)\n",
    "\n",
    "total_days = int((max_time - min_time)/time_step)\n",
    "\n",
    "time = np.arange(min_time, max_time, time_step)\n",
    "for t in time:\n",
    "    \n",
    "    day_start = int(np.floor(t/time_step)*time_step)\n",
    "    day_end =  int(np.floor(t/time_step)*time_step) + time_step\n",
    "    \n",
    "    day_events = chunk[(chunk['time'] >= day_start) & (chunk['time'] < day_end)]\n",
    "    \n",
    "    inf_den_day = np.zeros([96, NUM_COLORS])\n",
    "    for index, row in day_events.iterrows():\n",
    "        \n",
    "        tim = int(np.floor((row.time - day_start)/time_res - 1))\n",
    "        clus = kmeans.predict([[row['lat'], row['lon']]])\n",
    "        inf_den_day[tim, clus] = inf_den_day[tim, clus] + 1\n",
    "        \n",
    "    inf_den = inf_den + inf_den_day\n",
    "    \n",
    "inf_den = inf_den/total_days"
   ]
  },
  {
   "cell_type": "code",
   "execution_count": null,
   "metadata": {},
   "outputs": [],
   "source": [
    "plt.imshow(inf_den)"
   ]
  },
  {
   "cell_type": "code",
   "execution_count": null,
   "metadata": {},
   "outputs": [],
   "source": [
    "min_time = int(np.floor(min(chunk.time)/time_step)*time_step)\n",
    "max_time = int(np.ceil(max(chunk.time)/time_step)*time_step)\n",
    "\n",
    "print(int((max_time - min_time)/time_step))"
   ]
  },
  {
   "cell_type": "code",
   "execution_count": null,
   "metadata": {},
   "outputs": [],
   "source": [
    "day_events"
   ]
  },
  {
   "cell_type": "code",
   "execution_count": null,
   "metadata": {},
   "outputs": [],
   "source": [
    "#cluster_data = kmeans.predict(list(zip(df['lat'].values, df['lon'].values)))\n",
    "#df['cluster'] = cluster_data\n",
    "\n",
    "map_la = folium.Map(location=[34.2012,-118.4662],\n",
    "                        tiles = \"Stamen Terrain\",\n",
    "                        zoom_start = 11)\n",
    "[folium.CircleMarker(kmeans.cluster_centers_[i], radius=10, blur=10,\n",
    "                color='#FF0000', fill_color='#FF0000').add_to(map_la) \n",
    "for i in range(len(kmeans.cluster_centers_))]\n",
    "map_la"
   ]
  },
  {
   "cell_type": "code",
   "execution_count": null,
   "metadata": {},
   "outputs": [],
   "source": [
    "from collections import Counter\n",
    "spread_inf = Counter(chunk['infected_by_id'])\n",
    "\n",
    "#plt.plot(np.sort(list(spread_inf.values())))\n",
    "spread_most_inf_id = list(np.where(np.array(list(spread_inf.values()))>100.0))\n",
    "\n",
    "spread_most_inf = []\n",
    "for ids in spread_most_inf_id[0]:\n",
    "    spread_most_inf.append(list(spread_inf.keys())[ids])\n",
    "    \n",
    "usr = spread_most_inf[0] \n",
    "filt_v = df[df['id'] == usr]"
   ]
  },
  {
   "cell_type": "code",
   "execution_count": null,
   "metadata": {},
   "outputs": [],
   "source": [
    "map_la = folium.Map(location=[34.2012,-118.4662],\n",
    "                        tiles = \"Stamen Terrain\",\n",
    "                        zoom_start = 11)\n",
    "filt_v = filt_v.dropna(axis=0, subset=['lat','lon'])\n",
    "\n",
    "# List comprehension to make out list of lists\n",
    "heat_data = [[row['lat'], row['lon']] for index, row in filt_v.iterrows()]\n",
    "\n",
    "\n",
    "[folium.CircleMarker(heat_data[i], radius=10, blur=10,\n",
    "                color='#FF0000', fill_color='#FF0000').add_to(map_la) \n",
    "for i in range(len(heat_data))]\n",
    "# Plot it on the map\n",
    "#HeatMap(heat_data, radius=1, blur=0, gradient=False).add_to(map_la)\n",
    "\n",
    "map_la"
   ]
  },
  {
   "cell_type": "code",
   "execution_count": null,
   "metadata": {},
   "outputs": [],
   "source": [
    "#time_v_inf = chunk[chunk['infected_by_id'] == usr]['time'].values\n",
    "#x_v = chunk[chunk['infected_by_id'] == usr]['lat'].values\n",
    "#y_v = chunk[chunk['infected_by_id'] == usr]['lon'].values\n",
    "\n",
    "\n",
    "\n",
    "time_v_act = filt_v['timestamp'].values\n",
    "x_v = filt_v['lat'].values\n",
    "y_v = filt_v['lon'].values\n",
    "\n",
    "time_v_inf = chunk[chunk['infected_by_id'] == usr]['time'].values"
   ]
  },
  {
   "cell_type": "code",
   "execution_count": null,
   "metadata": {},
   "outputs": [],
   "source": [
    "spread_most_inf.reverse()"
   ]
  },
  {
   "cell_type": "code",
   "execution_count": null,
   "metadata": {},
   "outputs": [],
   "source": [
    "spread_most_inf"
   ]
  },
  {
   "cell_type": "code",
   "execution_count": null,
   "metadata": {},
   "outputs": [],
   "source": [
    "\n",
    "T_MIN = 60*60\n",
    "D_MAX = 0.00001"
   ]
  },
  {
   "cell_type": "code",
   "execution_count": null,
   "metadata": {},
   "outputs": [],
   "source": [
    "can_users = []\n",
    "for ii in range(0, len(time_v_inf)):\n",
    "    if ii%10:\n",
    "        print(ii)\n",
    "        \n",
    "    for i in range(0, len(time_v_act)):\n",
    "        \n",
    "        if ii == 0:\n",
    "            can_users_t = df[(np.abs(df['timestamp'] - time_v_act[i]) < T_MIN) & (df['timestamp'] < time_v_inf[ii])]\n",
    "        else:\n",
    "            can_users_t = df[(np.abs(df['timestamp'] - time_v_act[i]) < T_MIN) & (df['timestamp'] > time_v_inf[ii - 1]) & (df['timestamp'] < time_v_inf[ii])]\n",
    "        can_users_dt = can_users_t[(can_users_t['lat'] - x_v[i])**2 + (can_users_t['lon'] - y_v[i])**2 <= D_MAX]\n",
    "        can_users = np.append(can_users, np.unique(can_users_dt['id'].values))"
   ]
  },
  {
   "cell_type": "raw",
   "metadata": {},
   "source": [
    "can_users = []\n",
    "time_v_inf = chunk[chunbk['infected_by_id'] == usr]['time'].values[0]\n",
    " \n",
    "for i in range(0, len(time_v_act)):\n",
    "    \n",
    "    if i%10:\n",
    "        print(i)\n",
    "        \n",
    "    can_users_t = df[(np.abs(df['timestamp'] - time_v_act[i]) < T_MIN) & (df['timestamp'] < time_v_inf)]\n",
    "    \n",
    "    can_users_dt = can_users_t[(can_users_t['lat'] - x_v[i])**2 + (can_users_t['lon'] - y_v[i])**2 <= D_MAX]\n",
    "    can_users = np.append(can_users, np.unique(can_users_dt['id'].values))"
   ]
  },
  {
   "cell_type": "code",
   "execution_count": null,
   "metadata": {},
   "outputs": [],
   "source": [
    "overlap_P_F = np.intersect1d(can_users, chunk[(chunk['infected_by_id'] == usr)]['infected_id'].values)\n",
    "print(overlap_P_F.shape)"
   ]
  },
  {
   "cell_type": "code",
   "execution_count": null,
   "metadata": {},
   "outputs": [],
   "source": [
    "can_users"
   ]
  },
  {
   "cell_type": "code",
   "execution_count": null,
   "metadata": {},
   "outputs": [],
   "source": [
    "len(overlap_P_F)/len(chunk[chunk['infected_by_id'] == usr]['infected_id'].values)\n"
   ]
  },
  {
   "cell_type": "raw",
   "metadata": {},
   "source": [
    "T_MIN = 60*60\n",
    "D_MAX = 0.00001\n",
    "\n",
    "can_u_dict = {}\n",
    "for usr in spread_most_inf:\n",
    "    print(usr)\n",
    " \n",
    "    can_users = []\n",
    "    \n",
    "    filt_v = df[df['id'] == usr]\n",
    "\n",
    "\n",
    "    x_v = filt_v['lat'].values\n",
    "    y_v = filt_v['lon'].values\n",
    "    time_v_act = filt_v['timestamp'].values\n",
    "    time_v_inf = chunk[chunk['infected_by_id'] == usr]['time'].values[0]\n",
    " \n",
    "    for i in range(0, len(time_v_act)):\n",
    "    \n",
    "        if i%10 == 0.0:\n",
    "            print(i)\n",
    "        \n",
    "        can_users_t = df[(np.abs(df['timestamp'] - time_v_act[i]) < T_MIN) & (df['timestamp'] < time_v_inf)]\n",
    "    \n",
    "        can_users_dt = can_users_t[(can_users_t['lat'] - x_v[i])**2 + (can_users_t['lon'] - y_v[i])**2 <= D_MAX]\n",
    "        can_users = np.append(can_users, np.unique(can_users_dt['id'].values))\n",
    "        \n",
    "    can_u_dict[usr] = can_users"
   ]
  },
  {
   "cell_type": "code",
   "execution_count": null,
   "metadata": {},
   "outputs": [],
   "source": [
    "chunk[chunk['infected_by_id'] == usr]['infected_id'].values.shape"
   ]
  },
  {
   "cell_type": "code",
   "execution_count": null,
   "metadata": {},
   "outputs": [],
   "source": [
    "can_users"
   ]
  },
  {
   "cell_type": "code",
   "execution_count": null,
   "metadata": {},
   "outputs": [],
   "source": [
    "past_usr_inf = []\n",
    "for usr in spread_most_inf:\n",
    "    overlap_P_F = np.intersect1d(can_users, chunk[(chunk['infected_by_id'] == usr)]['infected_id'].values)\n",
    "    past_usr_inf.append(len(overlap_P_F)/len(chunk[chunk['infected_by_id'] == usr]['infected_id'].values))"
   ]
  },
  {
   "cell_type": "code",
   "execution_count": null,
   "metadata": {},
   "outputs": [],
   "source": [
    "time_v_inf.shape"
   ]
  },
  {
   "cell_type": "code",
   "execution_count": null,
   "metadata": {},
   "outputs": [],
   "source": [
    "can_users = np.append(can_users, np.unique(can_users_dt['id'].values))\n",
    "can_users"
   ]
  },
  {
   "cell_type": "code",
   "execution_count": null,
   "metadata": {},
   "outputs": [],
   "source": [
    "chunk[chunk['infected_id'] == 443174]"
   ]
  },
  {
   "cell_type": "code",
   "execution_count": null,
   "metadata": {},
   "outputs": [],
   "source": [
    "import folium\n",
    "import json\n",
    "from folium import plugins\n",
    "from folium.plugins import HeatMap\n",
    "\n",
    "\n",
    "map_la = folium.Map(location=[34.2012,-118.4662],\n",
    "                        tiles = \"Stamen Terrain\",\n",
    "                        zoom_start = 11)\n",
    "locations = can_users_dt[['lat', 'lon']]\n",
    "locationlist = locations.values.tolist()\n",
    "\n",
    "for point in range(0, len(locationlist)):\n",
    "    folium.Marker(locationlist[point]).add_to(map_la)\n",
    "map_la"
   ]
  },
  {
   "cell_type": "code",
   "execution_count": null,
   "metadata": {},
   "outputs": [],
   "source": [
    "filt_v_b = filt_v[filt_v['timestamp'] <= time]\n",
    "filt_v_a = filt_v[filt_v['timestamp'] > time]"
   ]
  },
  {
   "cell_type": "code",
   "execution_count": null,
   "metadata": {},
   "outputs": [],
   "source": [
    "#hist_b = plt.hist2d(filt_v_b['lat'], filt_v_b['lon'], bins=5)\n",
    "map_lat_long(filt_v_b, 0.2)"
   ]
  },
  {
   "cell_type": "code",
   "execution_count": null,
   "metadata": {},
   "outputs": [],
   "source": [
    "#hist_a = plt.hist2d(filt_v_a['lat'], filt_v_a['lon'], bins=5)\n",
    "map_lat_long(filt_v_a, 0.2)"
   ]
  },
  {
   "cell_type": "code",
   "execution_count": null,
   "metadata": {},
   "outputs": [],
   "source": [
    "def map_lat_long(filt_v_b, ex):\n",
    "    \n",
    "    lat_min, lat_max, lon_min, lon_max = min(filt_v_b['lat']) - ex, max(filt_v_b['lat']) + ex, min(filt_v_b['lon']) - ex, max(filt_v_b['lon']) + ex\n",
    "\n",
    "    geo_fvb = gpd.GeoDataFrame(filt_v_b, geometry=gpd.points_from_xy(filt_v_b['lon'], filt_v_b['lat']))\n",
    "    world = gpd.read_file(gpd.datasets.get_path('naturalearth_lowres'))\n",
    "\n",
    "    # We restrict to USA\n",
    "    ax = world[world.name == 'United States of America'].plot(color='white', edgecolor='black',figsize=(10, 12))\n",
    "    geo_fvb.plot(ax=ax, legend=True, markersize=20)\n",
    "\n",
    "    plt.ylim((lat_min,lat_max))\n",
    "    plt.xlim((lon_min, lon_max))\n",
    "    plt.grid()\n",
    "    plt.xlabel('Longitude')\n",
    "    plt.ylabel('Latitude')\n",
    "    plt.show()\n",
    "\n"
   ]
  },
  {
   "cell_type": "code",
   "execution_count": null,
   "metadata": {},
   "outputs": [],
   "source": [
    "chunk.head()"
   ]
  },
  {
   "cell_type": "code",
   "execution_count": null,
   "metadata": {},
   "outputs": [],
   "source": [
    "chunk[chunk['infected_by_id']==usr].shape"
   ]
  },
  {
   "cell_type": "code",
   "execution_count": null,
   "metadata": {},
   "outputs": [],
   "source": [
    "plt.imshow(hist_a[0])"
   ]
  },
  {
   "cell_type": "code",
   "execution_count": null,
   "metadata": {},
   "outputs": [],
   "source": [
    "filt_v_b.shape"
   ]
  },
  {
   "cell_type": "code",
   "execution_count": null,
   "metadata": {},
   "outputs": [],
   "source": [
    "map_lat_long(chunk, ex)"
   ]
  },
  {
   "cell_type": "code",
   "execution_count": null,
   "metadata": {},
   "outputs": [],
   "source": [
    "plt.hist2d(chunk['lat'], chunk['lon'])"
   ]
  },
  {
   "cell_type": "code",
   "execution_count": null,
   "metadata": {},
   "outputs": [],
   "source": []
  },
  {
   "cell_type": "code",
   "execution_count": null,
   "metadata": {},
   "outputs": [],
   "source": [
    "geo_fvb.plot(ax=ax, legend=True, markersize=20)\n",
    "\n",
    "sns.kdeplot(chunk['lon'].values, chunk['lat'].values, cmap=\"Reds\", shade=True)"
   ]
  },
  {
   "cell_type": "code",
   "execution_count": null,
   "metadata": {},
   "outputs": [],
   "source": [
    "geo_fvb = gpd.GeoDataFrame(chunk, geometry=gpd.points_from_xy(chunk['lon'], chunk['lat']))\n",
    "cities = gpd.read_file(gpd.datasets.get_path('naturalearth_cities'))\n",
    "\n",
    "    # We restrict to USA\n",
    "ax = world[world.name == 'United States of America'].plot(color='white', edgecolor='black',figsize=(10, 12))\n",
    "geo_fvb.plot(ax=ax, legend=True, markersize=20)\n",
    "\n",
    "#geo_fvb.plot()"
   ]
  },
  {
   "cell_type": "code",
   "execution_count": null,
   "metadata": {},
   "outputs": [],
   "source": [
    "gpd.datasets.available"
   ]
  },
  {
   "cell_type": "code",
   "execution_count": null,
   "metadata": {},
   "outputs": [],
   "source": [
    "cities = gpd.read_file(gpd.datasets.get_path('naturalearth_cities'))"
   ]
  },
  {
   "cell_type": "code",
   "execution_count": null,
   "metadata": {},
   "outputs": [],
   "source": [
    "import folium\n",
    "import json\n",
    "from folium import plugins\n",
    "from folium.plugins import HeatMap\n",
    "\n",
    "\n",
    "map_la = folium.Map(location=[34.2012,-118.4662],\n",
    "                        tiles = \"Stamen Terrain\",\n",
    "                        zoom_start = 11)\n",
    "\n",
    "heat_df = chunk # Reducing data size so it runs faster\n",
    "#heat_df = heat_df[['lat', 'lon']]\n",
    "heat_df = heat_df.dropna(axis=0, subset=['lat','lon'])\n",
    "map_la"
   ]
  },
  {
   "cell_type": "code",
   "execution_count": null,
   "metadata": {},
   "outputs": [],
   "source": [
    "heat_df.head()"
   ]
  },
  {
   "cell_type": "code",
   "execution_count": null,
   "metadata": {},
   "outputs": [],
   "source": [
    "\n",
    "# List comprehension to make out list of lists\n",
    "heat_data = [[row['lat'], row['lon']] for index, row in heat_df.iterrows()]\n",
    "# Plot it on the map\n",
    "HeatMap(heat_data, radius=10, blur=1, gradient=False).add_to(map_la)\n"
   ]
  },
  {
   "cell_type": "code",
   "execution_count": null,
   "metadata": {},
   "outputs": [],
   "source": [
    "map_la"
   ]
  },
  {
   "cell_type": "code",
   "execution_count": null,
   "metadata": {},
   "outputs": [],
   "source": [
    "map_la_kde\n",
    "kd = sns.kdeplot(chunk['lon'].values, chunk['lat'].values, cmap=\"Reds\", shade=True, vertical=True)\n"
   ]
  },
  {
   "cell_type": "code",
   "execution_count": null,
   "metadata": {},
   "outputs": [],
   "source": [
    "chunk.head()"
   ]
  },
  {
   "cell_type": "code",
   "execution_count": null,
   "metadata": {},
   "outputs": [],
   "source": [
    "df.head()"
   ]
  },
  {
   "cell_type": "code",
   "execution_count": null,
   "metadata": {},
   "outputs": [],
   "source": [
    "import pyarrow\n",
    "import pyarrow.parquet as pq\n",
    "import pandas as pd\n",
    "\n",
    "import numpy as np\n",
    "import seaborn as sns\n",
    "\n",
    "import folium\n",
    "import json\n",
    "from folium import plugins\n",
    "from folium.plugins import HeatMap\n",
    "\n",
    "\n",
    "map_la = folium.Map(location=[34.2012,-118.4662],\n",
    "                        tiles = \"Stamen Terrain\",\n",
    "                        zoom_start = 11)\n",
    "#input_filename = '~/SpreadSimulation/tests/test_1036800_432000_3600_0.000165_0.5_1000_1_0_0.2/infect_stat_res.txt'\n",
    "input_filename = '~/SpreadSimulation-v4-master/tests/test_1036800_432000_3600_0.0001_1_1000_1_0_0.1/infect_stat_res.txt'\n",
    "heat_df = pd.read_csv(input_filename, names=['time', 'infected_id', 'infected_by_id', 'lon', 'lat' ], delim_whitespace=True)\n",
    "heat_df = heat_df.dropna(axis=0, subset=['lat','lon'])\n",
    "\n",
    "# List comprehension to make out list of lists\n",
    "heat_data = [[row['lat'], row['lon']] for index, row in heat_df.iterrows()]\n",
    "# Plot it on the map\n",
    "HeatMap(heat_data, radius=10, blur=1, gradient=False).add_to(map_la)\n",
    "\n",
    "map_la"
   ]
  },
  {
   "cell_type": "code",
   "execution_count": null,
   "metadata": {},
   "outputs": [],
   "source": []
  },
  {
   "cell_type": "code",
   "execution_count": null,
   "metadata": {},
   "outputs": [],
   "source": [
    "input_filename = '~/SpreadSimulation/tests/test_1036800_432000_3600_0.0001_1_1000_1_0_0.1/susc_colocation_res.txt'\n",
    "\n",
    "#heat_df = pd.read_csv(input_filename, names=['time', 'infected_id', 'infected_by_id', 'lon', 'lat' ], delim_whitespace=True)\n",
    "chunk = pd.read_csv(input_filename, names=['time', 'u', 'v'], sep=' ')"
   ]
  },
  {
   "cell_type": "code",
   "execution_count": null,
   "metadata": {},
   "outputs": [],
   "source": [
    "chunk.head()"
   ]
  },
  {
   "cell_type": "code",
   "execution_count": null,
   "metadata": {},
   "outputs": [],
   "source": [
    "import os\n",
    "print(os.getcwd())\n",
    "os.chdir(\"/tank/users/sirishar/SpreadSimulation/tests/test_1036800_432000_3600_0.0001_1_1000_1_0_0.1/\")\n",
    "\n",
    "chunk = pd.DataFrame(data=None, columns=['time', 'u', 'v', 'frnd_v'], dtype=None, copy=False)\n",
    "with open(\"susc_colocation_res.txt\") as f:\n",
    "    \n",
    "    for line in f:\n",
    "        d = {}\n",
    "        row = line.split()\n",
    "        d['time'] = int(row[0])\n",
    "        d['u'] = int(row[1])\n",
    "        d['v'] = int(row[2])\n",
    "        d['frnd_v'] = [[int(r) for r in row[3:]]]\n",
    "        \n",
    "        chunk = chunk.append(pd.DataFrame.from_dict(d))\n",
    "        #print(chunk)\n",
    "        #break\n",
    "        \n",
    "        \n",
    "        \n",
    "        \n",
    "    \n",
    " "
   ]
  },
  {
   "cell_type": "code",
   "execution_count": null,
   "metadata": {},
   "outputs": [],
   "source": [
    "pct_frnds_inf = list([])\n",
    "for v in np.unique(chunk['v'].values):\n",
    "    chunk_vs = chunk[chunk['v'] == v]\n",
    "    frnd_inf = chunk_vs.u.isin(chunk_vs.frnd_v.values[0])\n",
    "    pct_frnds_inf.append(len(chunk_vs[frnd_inf])/len(frnd_inf)*100)\n",
    "    #chunk[chunk['v'] == v]\n",
    "    #frnd_inf = (chunk[chunk['v'] == chunk['v'].values[0]['u']).isin(chunk['frnd_v'].values[0])\n",
    "    #pct_frnds_inf.append(len(frnd_inf)/len(chunk[chunk['v'] == chunk['v'].values[0]][frnd_inf]))"
   ]
  },
  {
   "cell_type": "code",
   "execution_count": null,
   "metadata": {},
   "outputs": [],
   "source": [
    "len(np.nonzero(pct_frnds_inf)[0])/len(pct_frnds_inf)"
   ]
  },
  {
   "cell_type": "code",
   "execution_count": null,
   "metadata": {},
   "outputs": [],
   "source": [
    "len(chunk_vs[frnd_inf])"
   ]
  },
  {
   "cell_type": "code",
   "execution_count": null,
   "metadata": {},
   "outputs": [],
   "source": [
    "plt.hist(pct_frnds_inf, 10)\n"
   ]
  },
  {
   "cell_type": "markdown",
   "metadata": {},
   "source": [
    " ## Daily events and infections per region calculations "
   ]
  },
  {
   "cell_type": "code",
   "execution_count": null,
   "metadata": {},
   "outputs": [],
   "source": [
    "time_step = 24*60*60\n",
    "time_res = 60*60*0.25\n",
    "\n",
    "\n",
    "min_time = int(np.floor(min(chunk.time)/time_step)*time_step)\n",
    "max_time = int(np.ceil(max(chunk.time)/time_step)*time_step)\n",
    "\n",
    "total_days = int((max_time - min_time)/time_step)\n",
    "\n",
    "time = np.arange(min_time, max_time, time_step)\n",
    "for t in time:\n",
    "    \n",
    "    day_start = int(np.floor(t/time_step)*time_step)\n",
    "    day_end =  int(np.floor(t/time_step)*time_step) + time_step\n",
    "    \n",
    "    day_events = chunk[(chunk['time'] >= day_start) & (chunk['time'] < day_end)]\n"
   ]
  },
  {
   "cell_type": "code",
   "execution_count": null,
   "metadata": {},
   "outputs": [],
   "source": [
    "time_step = 24*60*60\n",
    "\n",
    "min_time = int(np.floor(min(df.timestamp)/time_step)*time_step)\n",
    "max_time = int(np.ceil(max(df.timestamp)/time_step)*time_step)\n",
    "\n",
    "total_days = int((max_time - min_time)/time_step)\n",
    "\n",
    "time = np.arange(min_time, max_time, time_step)\n"
   ]
  },
  {
   "cell_type": "code",
   "execution_count": null,
   "metadata": {},
   "outputs": [],
   "source": [
    "datetime.datetime.utcfromtimestamp(min_time)"
   ]
  },
  {
   "cell_type": "code",
   "execution_count": null,
   "metadata": {},
   "outputs": [],
   "source": [
    "datetime.datetime.utcfromtimestamp(int(np.floor(min(chunk.time)/time_step)*time_step))"
   ]
  },
  {
   "cell_type": "code",
   "execution_count": null,
   "metadata": {},
   "outputs": [],
   "source": [
    "inf_records = []\n",
    "events_records = []\n",
    "i = 0 \n",
    "\n",
    "data_folder = \"/home/users/sirishar/analyze/data/\"\n",
    "\n",
    "t_index = []\n",
    "\n",
    "for t in time:\n",
    "    day_start = int(np.floor(t/time_step)*time_step)\n",
    "    day_end =  int(np.floor(t/time_step)*time_step) + time_step\n",
    "    \n",
    "    # For infection events\n",
    "    day_events_inf = chunk[(chunk['time'] >= day_start) & (chunk['time'] < day_end)]\n",
    "    \n",
    "    \n",
    "    day_inf_events_by_clus = np.zeros([1,NUM_COLORS])\n",
    "    \n",
    "    if not day_events_inf.empty:\n",
    "        clus_inf_day = calc_cluster(day_events_inf)\n",
    "    \n",
    "        for clus in np.unique(clus_inf_day):\n",
    "            day_inf_events_by_clus[0,clus] = len(np.where(clus_inf_day == clus)[0])\n",
    "    \n",
    "    inf_records.append(day_inf_events_by_clus)\n",
    "    \n",
    "    \n",
    "    #For checkin events\n",
    "    day_events = df[(df['timestamp'] >= day_start) & (df['timestamp'] < day_end)]\n",
    "    \n",
    "    day_events_by_clus = np.zeros([1,NUM_COLORS])\n",
    "    \n",
    "    if not day_events.empty:\n",
    "        clus_day = calc_cluster(day_events)\n",
    "\n",
    "        for clus in np.unique(clus_day):\n",
    "            day_events_by_clus[0,clus] = len(np.where(clus_day == clus)[0])\n",
    "    \n",
    "    events_records.append(day_events_by_clus)\n",
    "    \n",
    "    t_index.append(t)\n",
    "    \n",
    "    i = i + 1\n",
    "    print(i)\n",
    "\n",
    "event_rec_out_file = data_folder + \"cluster_checkin_events_\" + str(NUM_COLORS)+ str('_') + str(datetime.datetime.now().strftime('%Y_%m_%d_%H_%M_%S')) + '.csv'\n",
    "\n",
    "events_records = np.array(events_records)\n",
    "df_event_rec = pd.DataFrame(np.squeeze(events_records), columns=np.arange(0,NUM_COLORS), index=time)\n",
    "df_event_rec.to_csv(event_rec_out_file)\n",
    "\n",
    "inf_rec_out_file = data_folder + \"cluster_inf_events_\" + str(NUM_COLORS)+ str('_') + str(datetime.datetime.now().strftime('%Y_%m_%d_%H_%M_%S')) + '.csv'\n",
    "\n",
    "inf_records = np.array(inf_records)\n",
    "df_inf_rec = pd.DataFrame(np.squeeze(inf_records), columns=np.arange(0,NUM_COLORS), index=time)   \n",
    "df_inf_rec.to_csv(inf_rec_out_file)"
   ]
  },
  {
   "cell_type": "code",
   "execution_count": null,
   "metadata": {},
   "outputs": [],
   "source": []
  },
  {
   "cell_type": "code",
   "execution_count": null,
   "metadata": {},
   "outputs": [],
   "source": [
    "import folium\n",
    "map_la = folium.Map(location=[34.2012,-118.4662],\n",
    "                        tiles = \"Stamen Terrain\",\n",
    "                        zoom_start = 11)\n",
    "[folium.CircleMarker(kmeans.cluster_centers_[i], radius=10, blur=10,\n",
    "                color='#FF0000', fill_color='#FF0000').add_to(map_la) \n",
    "for i in range(len(kmeans.cluster_centers_))]\n",
    "map_la"
   ]
  },
  {
   "cell_type": "code",
   "execution_count": 169,
   "metadata": {},
   "outputs": [],
   "source": [
    "data_folder = \"/home/users/sirishar/analyze/data/\"\n",
    "K0 = np.genfromtxt(data_folder + 'cluster_K0_15_2020_09_29_13_41_01.csv', delimiter=',' )\n",
    "\n",
    "K0_scaled = (K0 - np.ravel(K0).min())/(np.ravel(K0).max() - np.ravel(K0).min())\n",
    "\n",
    "clus_locs = np.load(data_folder + 'cluster_locs_15_2020_09_30_18_05_50.npy')\n",
    "#K0 = np.genfromtxt(data_folder + 'cluster_locs_15_2020_09_30_18_05_50.csv' )"
   ]
  },
  {
   "cell_type": "code",
   "execution_count": 244,
   "metadata": {},
   "outputs": [
    {
     "name": "stderr",
     "output_type": "stream",
     "text": [
      "<ipython-input-244-5dab5a912ef7>:2: FutureWarning:     You are passing non-geometry data to the GeoSeries constructor. Currently,\n",
      "    it falls back to returning a pandas Series. But in the future, we will start\n",
      "    to raise a TypeError instead.\n",
      "  points = gpd.GeoSeries(list(zip(clus_locs[:,1], clus_locs[:,0]))).map(Point)\n"
     ]
    },
    {
     "data": {
      "text/plain": [
       "0      POLYGON ((-118.40090 34.09514, -118.40091 34.0...\n",
       "1      POLYGON ((-118.36817 34.09730, -118.36817 34.0...\n",
       "2      POLYGON ((-118.12191 34.10503, -118.12187 34.1...\n",
       "3      POLYGON ((-118.39585 34.09105, -118.39585 34.0...\n",
       "4      POLYGON ((-118.15700 33.99141, -118.15703 33.9...\n",
       "                             ...                        \n",
       "313    POLYGON ((-118.18628 33.73924, -118.18634 33.7...\n",
       "314    POLYGON ((-118.11776 33.74359, -118.11783 33.7...\n",
       "315    POLYGON ((-118.18186 33.75746, -118.18331 33.7...\n",
       "316    POLYGON ((-118.39220 33.84138, -118.39220 33.8...\n",
       "317    POLYGON ((-118.39416 33.84380, -118.39423 33.8...\n",
       "Name: geometry, Length: 318, dtype: geometry"
      ]
     },
     "execution_count": 244,
     "metadata": {},
     "output_type": "execute_result"
    }
   ],
   "source": [
    "from shapely.geometry import Point\n",
    "points = gpd.GeoSeries(list(zip(clus_locs[:,1], clus_locs[:,0]))).map(Point)\n",
    "boundary.geometry"
   ]
  },
  {
   "cell_type": "code",
   "execution_count": 276,
   "metadata": {},
   "outputs": [],
   "source": [
    "import geopandas as gpd\n",
    "from shapely.ops import cascaded_union\n",
    "from geovoronoi.plotting import subplot_for_map, plot_voronoi_polys_with_points_in_area\n",
    "from geovoronoi import voronoi_regions_from_coords, points_to_coords, coords_to_points\n",
    "\n",
    "# boundary = gpd.read_file(\"/home/users/sirishar/analyze/maps/LA_County_City_Boundaries.shp\")\n",
    "# boundary = boundary.to_crs(epsg=4326)\n",
    "# gdf_proj = gdf.to_crs(boundary.crs)\n",
    "# boundary_shape = cascaded_union(boundary.geometry)\n",
    "# boundary_shape\n",
    "#coords = np.array(list(zip(clus_locs[:,0],clus_locs[:,1])), dtype='float')\n",
    "cities = gpd.read_file(\"/home/users/sirishar/analyze/maps/cb_2018_us_cbsa_500k.shp\")\n",
    "cities[cities.NAME=='Los Angeles-Long Beach-Anaheim, CA']\n",
    "boundary_shape = cities.loc[338, 'geometry']"
   ]
  },
  {
   "cell_type": "code",
   "execution_count": 309,
   "metadata": {},
   "outputs": [
    {
     "ename": "ValueError",
     "evalue": "Invalid RGBA argument: 0.2624871531346348",
     "output_type": "error",
     "traceback": [
      "\u001b[0;31m---------------------------------------------------------------------------\u001b[0m",
      "\u001b[0;31mValueError\u001b[0m                                Traceback (most recent call last)",
      "\u001b[0;32m<ipython-input-309-c480c4c6494b>\u001b[0m in \u001b[0;36m<module>\u001b[0;34m\u001b[0m\n\u001b[1;32m      5\u001b[0m \u001b[0mfig\u001b[0m\u001b[0;34m,\u001b[0m \u001b[0max\u001b[0m \u001b[0;34m=\u001b[0m \u001b[0msubplot_for_map\u001b[0m\u001b[0;34m(\u001b[0m\u001b[0;34m)\u001b[0m\u001b[0;34m\u001b[0m\u001b[0;34m\u001b[0m\u001b[0m\n\u001b[1;32m      6\u001b[0m \u001b[0;34m\u001b[0m\u001b[0m\n\u001b[0;32m----> 7\u001b[0;31m \u001b[0mplot_voronoi_polys_with_points_in_area\u001b[0m\u001b[0;34m(\u001b[0m\u001b[0max\u001b[0m\u001b[0;34m,\u001b[0m \u001b[0mboundary_shape\u001b[0m\u001b[0;34m,\u001b[0m \u001b[0mpoly_shapes\u001b[0m\u001b[0;34m,\u001b[0m \u001b[0mpts\u001b[0m\u001b[0;34m,\u001b[0m \u001b[0mpoly_to_pt_assignments\u001b[0m\u001b[0;34m=\u001b[0m\u001b[0;32mNone\u001b[0m\u001b[0;34m,\u001b[0m \u001b[0marea_color\u001b[0m\u001b[0;34m=\u001b[0m\u001b[0mK0_scaled\u001b[0m\u001b[0;34m[\u001b[0m\u001b[0;34m:\u001b[0m\u001b[0;34m,\u001b[0m\u001b[0;36m0\u001b[0m\u001b[0;34m]\u001b[0m \u001b[0;34m)\u001b[0m\u001b[0;34m\u001b[0m\u001b[0;34m\u001b[0m\u001b[0m\n\u001b[0m\u001b[1;32m      8\u001b[0m \u001b[0max\u001b[0m\u001b[0;34m.\u001b[0m\u001b[0mset_title\u001b[0m\u001b[0;34m(\u001b[0m\u001b[0;34m'K0 per Region in Los Angeles'\u001b[0m\u001b[0;34m)\u001b[0m\u001b[0;34m\u001b[0m\u001b[0;34m\u001b[0m\u001b[0m\n\u001b[1;32m      9\u001b[0m \u001b[0;34m\u001b[0m\u001b[0m\n",
      "\u001b[0;32m~/anaconda3/lib/python3.8/site-packages/geovoronoi/plotting.py\u001b[0m in \u001b[0;36mplot_voronoi_polys_with_points_in_area\u001b[0;34m(ax, area_shape, poly_shapes, points, poly_to_pt_assignments, area_color, area_edgecolor, voronoi_and_points_cmap, voronoi_color, voronoi_edgecolor, points_color, points_markersize, points_marker, voronoi_labels, voronoi_label_fontsize, voronoi_label_color, point_labels, point_label_fontsize, point_label_color, plot_area_opts, plot_voronoi_opts, plot_points_opts)\u001b[0m\n\u001b[1;32m    136\u001b[0m     \u001b[0mplot_points_opts\u001b[0m \u001b[0;34m=\u001b[0m \u001b[0mplot_points_opts\u001b[0m \u001b[0;32mor\u001b[0m \u001b[0;34m{\u001b[0m\u001b[0;34m}\u001b[0m\u001b[0;34m\u001b[0m\u001b[0;34m\u001b[0m\u001b[0m\n\u001b[1;32m    137\u001b[0m \u001b[0;34m\u001b[0m\u001b[0m\n\u001b[0;32m--> 138\u001b[0;31m     \u001b[0m_plot_polygon_collection_with_color\u001b[0m\u001b[0;34m(\u001b[0m\u001b[0max\u001b[0m\u001b[0;34m,\u001b[0m \u001b[0;34m[\u001b[0m\u001b[0marea_shape\u001b[0m\u001b[0;34m]\u001b[0m\u001b[0;34m,\u001b[0m \u001b[0mcolor\u001b[0m\u001b[0;34m=\u001b[0m\u001b[0marea_color\u001b[0m\u001b[0;34m,\u001b[0m \u001b[0medgecolor\u001b[0m\u001b[0;34m=\u001b[0m\u001b[0marea_edgecolor\u001b[0m\u001b[0;34m,\u001b[0m \u001b[0;34m**\u001b[0m\u001b[0mplot_area_opts\u001b[0m\u001b[0;34m)\u001b[0m\u001b[0;34m\u001b[0m\u001b[0;34m\u001b[0m\u001b[0m\n\u001b[0m\u001b[1;32m    139\u001b[0m \u001b[0;34m\u001b[0m\u001b[0m\n\u001b[1;32m    140\u001b[0m     \u001b[0;32mif\u001b[0m \u001b[0mvoronoi_and_points_cmap\u001b[0m \u001b[0;32mand\u001b[0m \u001b[0mpoly_to_pt_assignments\u001b[0m \u001b[0;32mand\u001b[0m\u001b[0;31m \u001b[0m\u001b[0;31m\\\u001b[0m\u001b[0;34m\u001b[0m\u001b[0;34m\u001b[0m\u001b[0m\n",
      "\u001b[0;32m~/anaconda3/lib/python3.8/site-packages/geovoronoi/plotting.py\u001b[0m in \u001b[0;36m_plot_polygon_collection_with_color\u001b[0;34m(ax, geoms, color, **kwargs)\u001b[0m\n\u001b[1;32m    212\u001b[0m         \u001b[0;32mdel\u001b[0m \u001b[0mkwargs\u001b[0m\u001b[0;34m[\u001b[0m\u001b[0;34m'markersize'\u001b[0m\u001b[0;34m]\u001b[0m\u001b[0;34m\u001b[0m\u001b[0;34m\u001b[0m\u001b[0m\n\u001b[1;32m    213\u001b[0m \u001b[0;34m\u001b[0m\u001b[0m\n\u001b[0;32m--> 214\u001b[0;31m     collection = PatchCollection([PolygonPatch(poly) for poly in geoms],\n\u001b[0m\u001b[1;32m    215\u001b[0m                                  color=color, **kwargs)\n\u001b[1;32m    216\u001b[0m \u001b[0;34m\u001b[0m\u001b[0m\n",
      "\u001b[0;32m~/anaconda3/lib/python3.8/site-packages/matplotlib/collections.py\u001b[0m in \u001b[0;36m__init__\u001b[0;34m(self, patches, match_original, **kwargs)\u001b[0m\n\u001b[1;32m   1832\u001b[0m             \u001b[0mkwargs\u001b[0m\u001b[0;34m[\u001b[0m\u001b[0;34m'antialiaseds'\u001b[0m\u001b[0;34m]\u001b[0m \u001b[0;34m=\u001b[0m \u001b[0;34m[\u001b[0m\u001b[0mp\u001b[0m\u001b[0;34m.\u001b[0m\u001b[0mget_antialiased\u001b[0m\u001b[0;34m(\u001b[0m\u001b[0;34m)\u001b[0m \u001b[0;32mfor\u001b[0m \u001b[0mp\u001b[0m \u001b[0;32min\u001b[0m \u001b[0mpatches\u001b[0m\u001b[0;34m]\u001b[0m\u001b[0;34m\u001b[0m\u001b[0;34m\u001b[0m\u001b[0m\n\u001b[1;32m   1833\u001b[0m \u001b[0;34m\u001b[0m\u001b[0m\n\u001b[0;32m-> 1834\u001b[0;31m         \u001b[0mCollection\u001b[0m\u001b[0;34m.\u001b[0m\u001b[0m__init__\u001b[0m\u001b[0;34m(\u001b[0m\u001b[0mself\u001b[0m\u001b[0;34m,\u001b[0m \u001b[0;34m**\u001b[0m\u001b[0mkwargs\u001b[0m\u001b[0;34m)\u001b[0m\u001b[0;34m\u001b[0m\u001b[0;34m\u001b[0m\u001b[0m\n\u001b[0m\u001b[1;32m   1835\u001b[0m \u001b[0;34m\u001b[0m\u001b[0m\n\u001b[1;32m   1836\u001b[0m         \u001b[0mself\u001b[0m\u001b[0;34m.\u001b[0m\u001b[0mset_paths\u001b[0m\u001b[0;34m(\u001b[0m\u001b[0mpatches\u001b[0m\u001b[0;34m)\u001b[0m\u001b[0;34m\u001b[0m\u001b[0;34m\u001b[0m\u001b[0m\n",
      "\u001b[0;32m~/anaconda3/lib/python3.8/site-packages/matplotlib/collections.py\u001b[0m in \u001b[0;36m__init__\u001b[0;34m(self, edgecolors, facecolors, linewidths, linestyles, capstyle, joinstyle, antialiaseds, offsets, transOffset, norm, cmap, pickradius, hatch, urls, offset_position, zorder, **kwargs)\u001b[0m\n\u001b[1;32m    162\u001b[0m \u001b[0;34m\u001b[0m\u001b[0m\n\u001b[1;32m    163\u001b[0m         \u001b[0mself\u001b[0m\u001b[0;34m.\u001b[0m\u001b[0m_path_effects\u001b[0m \u001b[0;34m=\u001b[0m \u001b[0;32mNone\u001b[0m\u001b[0;34m\u001b[0m\u001b[0;34m\u001b[0m\u001b[0m\n\u001b[0;32m--> 164\u001b[0;31m         \u001b[0mself\u001b[0m\u001b[0;34m.\u001b[0m\u001b[0mupdate\u001b[0m\u001b[0;34m(\u001b[0m\u001b[0mkwargs\u001b[0m\u001b[0;34m)\u001b[0m\u001b[0;34m\u001b[0m\u001b[0;34m\u001b[0m\u001b[0m\n\u001b[0m\u001b[1;32m    165\u001b[0m         \u001b[0mself\u001b[0m\u001b[0;34m.\u001b[0m\u001b[0m_paths\u001b[0m \u001b[0;34m=\u001b[0m \u001b[0;32mNone\u001b[0m\u001b[0;34m\u001b[0m\u001b[0;34m\u001b[0m\u001b[0m\n\u001b[1;32m    166\u001b[0m \u001b[0;34m\u001b[0m\u001b[0m\n",
      "\u001b[0;32m~/anaconda3/lib/python3.8/site-packages/matplotlib/artist.py\u001b[0m in \u001b[0;36mupdate\u001b[0;34m(self, props)\u001b[0m\n\u001b[1;32m   1004\u001b[0m \u001b[0;34m\u001b[0m\u001b[0m\n\u001b[1;32m   1005\u001b[0m         \u001b[0;32mwith\u001b[0m \u001b[0mcbook\u001b[0m\u001b[0;34m.\u001b[0m\u001b[0m_setattr_cm\u001b[0m\u001b[0;34m(\u001b[0m\u001b[0mself\u001b[0m\u001b[0;34m,\u001b[0m \u001b[0meventson\u001b[0m\u001b[0;34m=\u001b[0m\u001b[0;32mFalse\u001b[0m\u001b[0;34m)\u001b[0m\u001b[0;34m:\u001b[0m\u001b[0;34m\u001b[0m\u001b[0;34m\u001b[0m\u001b[0m\n\u001b[0;32m-> 1006\u001b[0;31m             \u001b[0mret\u001b[0m \u001b[0;34m=\u001b[0m \u001b[0;34m[\u001b[0m\u001b[0m_update_property\u001b[0m\u001b[0;34m(\u001b[0m\u001b[0mself\u001b[0m\u001b[0;34m,\u001b[0m \u001b[0mk\u001b[0m\u001b[0;34m,\u001b[0m \u001b[0mv\u001b[0m\u001b[0;34m)\u001b[0m \u001b[0;32mfor\u001b[0m \u001b[0mk\u001b[0m\u001b[0;34m,\u001b[0m \u001b[0mv\u001b[0m \u001b[0;32min\u001b[0m \u001b[0mprops\u001b[0m\u001b[0;34m.\u001b[0m\u001b[0mitems\u001b[0m\u001b[0;34m(\u001b[0m\u001b[0;34m)\u001b[0m\u001b[0;34m]\u001b[0m\u001b[0;34m\u001b[0m\u001b[0;34m\u001b[0m\u001b[0m\n\u001b[0m\u001b[1;32m   1007\u001b[0m \u001b[0;34m\u001b[0m\u001b[0m\n\u001b[1;32m   1008\u001b[0m         \u001b[0;32mif\u001b[0m \u001b[0mlen\u001b[0m\u001b[0;34m(\u001b[0m\u001b[0mret\u001b[0m\u001b[0;34m)\u001b[0m\u001b[0;34m:\u001b[0m\u001b[0;34m\u001b[0m\u001b[0;34m\u001b[0m\u001b[0m\n",
      "\u001b[0;32m~/anaconda3/lib/python3.8/site-packages/matplotlib/artist.py\u001b[0m in \u001b[0;36m<listcomp>\u001b[0;34m(.0)\u001b[0m\n\u001b[1;32m   1004\u001b[0m \u001b[0;34m\u001b[0m\u001b[0m\n\u001b[1;32m   1005\u001b[0m         \u001b[0;32mwith\u001b[0m \u001b[0mcbook\u001b[0m\u001b[0;34m.\u001b[0m\u001b[0m_setattr_cm\u001b[0m\u001b[0;34m(\u001b[0m\u001b[0mself\u001b[0m\u001b[0;34m,\u001b[0m \u001b[0meventson\u001b[0m\u001b[0;34m=\u001b[0m\u001b[0;32mFalse\u001b[0m\u001b[0;34m)\u001b[0m\u001b[0;34m:\u001b[0m\u001b[0;34m\u001b[0m\u001b[0;34m\u001b[0m\u001b[0m\n\u001b[0;32m-> 1006\u001b[0;31m             \u001b[0mret\u001b[0m \u001b[0;34m=\u001b[0m \u001b[0;34m[\u001b[0m\u001b[0m_update_property\u001b[0m\u001b[0;34m(\u001b[0m\u001b[0mself\u001b[0m\u001b[0;34m,\u001b[0m \u001b[0mk\u001b[0m\u001b[0;34m,\u001b[0m \u001b[0mv\u001b[0m\u001b[0;34m)\u001b[0m \u001b[0;32mfor\u001b[0m \u001b[0mk\u001b[0m\u001b[0;34m,\u001b[0m \u001b[0mv\u001b[0m \u001b[0;32min\u001b[0m \u001b[0mprops\u001b[0m\u001b[0;34m.\u001b[0m\u001b[0mitems\u001b[0m\u001b[0;34m(\u001b[0m\u001b[0;34m)\u001b[0m\u001b[0;34m]\u001b[0m\u001b[0;34m\u001b[0m\u001b[0;34m\u001b[0m\u001b[0m\n\u001b[0m\u001b[1;32m   1007\u001b[0m \u001b[0;34m\u001b[0m\u001b[0m\n\u001b[1;32m   1008\u001b[0m         \u001b[0;32mif\u001b[0m \u001b[0mlen\u001b[0m\u001b[0;34m(\u001b[0m\u001b[0mret\u001b[0m\u001b[0;34m)\u001b[0m\u001b[0;34m:\u001b[0m\u001b[0;34m\u001b[0m\u001b[0;34m\u001b[0m\u001b[0m\n",
      "\u001b[0;32m~/anaconda3/lib/python3.8/site-packages/matplotlib/artist.py\u001b[0m in \u001b[0;36m_update_property\u001b[0;34m(self, k, v)\u001b[0m\n\u001b[1;32m   1001\u001b[0m                     raise AttributeError('{!r} object has no property {!r}'\n\u001b[1;32m   1002\u001b[0m                                          .format(type(self).__name__, k))\n\u001b[0;32m-> 1003\u001b[0;31m                 \u001b[0;32mreturn\u001b[0m \u001b[0mfunc\u001b[0m\u001b[0;34m(\u001b[0m\u001b[0mv\u001b[0m\u001b[0;34m)\u001b[0m\u001b[0;34m\u001b[0m\u001b[0;34m\u001b[0m\u001b[0m\n\u001b[0m\u001b[1;32m   1004\u001b[0m \u001b[0;34m\u001b[0m\u001b[0m\n\u001b[1;32m   1005\u001b[0m         \u001b[0;32mwith\u001b[0m \u001b[0mcbook\u001b[0m\u001b[0;34m.\u001b[0m\u001b[0m_setattr_cm\u001b[0m\u001b[0;34m(\u001b[0m\u001b[0mself\u001b[0m\u001b[0;34m,\u001b[0m \u001b[0meventson\u001b[0m\u001b[0;34m=\u001b[0m\u001b[0;32mFalse\u001b[0m\u001b[0;34m)\u001b[0m\u001b[0;34m:\u001b[0m\u001b[0;34m\u001b[0m\u001b[0;34m\u001b[0m\u001b[0m\n",
      "\u001b[0;32m~/anaconda3/lib/python3.8/site-packages/matplotlib/collections.py\u001b[0m in \u001b[0;36mset_color\u001b[0;34m(self, c)\u001b[0m\n\u001b[1;32m    686\u001b[0m             \u001b[0mFor\u001b[0m \u001b[0msetting\u001b[0m \u001b[0mthe\u001b[0m \u001b[0medge\u001b[0m \u001b[0;32mor\u001b[0m \u001b[0mface\u001b[0m \u001b[0mcolor\u001b[0m \u001b[0mindividually\u001b[0m\u001b[0;34m.\u001b[0m\u001b[0;34m\u001b[0m\u001b[0;34m\u001b[0m\u001b[0m\n\u001b[1;32m    687\u001b[0m         \"\"\"\n\u001b[0;32m--> 688\u001b[0;31m         \u001b[0mself\u001b[0m\u001b[0;34m.\u001b[0m\u001b[0mset_facecolor\u001b[0m\u001b[0;34m(\u001b[0m\u001b[0mc\u001b[0m\u001b[0;34m)\u001b[0m\u001b[0;34m\u001b[0m\u001b[0;34m\u001b[0m\u001b[0m\n\u001b[0m\u001b[1;32m    689\u001b[0m         \u001b[0mself\u001b[0m\u001b[0;34m.\u001b[0m\u001b[0mset_edgecolor\u001b[0m\u001b[0;34m(\u001b[0m\u001b[0mc\u001b[0m\u001b[0;34m)\u001b[0m\u001b[0;34m\u001b[0m\u001b[0;34m\u001b[0m\u001b[0m\n\u001b[1;32m    690\u001b[0m \u001b[0;34m\u001b[0m\u001b[0m\n",
      "\u001b[0;32m~/anaconda3/lib/python3.8/site-packages/matplotlib/collections.py\u001b[0m in \u001b[0;36mset_facecolor\u001b[0;34m(self, c)\u001b[0m\n\u001b[1;32m    715\u001b[0m         \"\"\"\n\u001b[1;32m    716\u001b[0m         \u001b[0mself\u001b[0m\u001b[0;34m.\u001b[0m\u001b[0m_original_facecolor\u001b[0m \u001b[0;34m=\u001b[0m \u001b[0mc\u001b[0m\u001b[0;34m\u001b[0m\u001b[0;34m\u001b[0m\u001b[0m\n\u001b[0;32m--> 717\u001b[0;31m         \u001b[0mself\u001b[0m\u001b[0;34m.\u001b[0m\u001b[0m_set_facecolor\u001b[0m\u001b[0;34m(\u001b[0m\u001b[0mc\u001b[0m\u001b[0;34m)\u001b[0m\u001b[0;34m\u001b[0m\u001b[0;34m\u001b[0m\u001b[0m\n\u001b[0m\u001b[1;32m    718\u001b[0m \u001b[0;34m\u001b[0m\u001b[0m\n\u001b[1;32m    719\u001b[0m     \u001b[0;32mdef\u001b[0m \u001b[0mget_facecolor\u001b[0m\u001b[0;34m(\u001b[0m\u001b[0mself\u001b[0m\u001b[0;34m)\u001b[0m\u001b[0;34m:\u001b[0m\u001b[0;34m\u001b[0m\u001b[0;34m\u001b[0m\u001b[0m\n",
      "\u001b[0;32m~/anaconda3/lib/python3.8/site-packages/matplotlib/collections.py\u001b[0m in \u001b[0;36m_set_facecolor\u001b[0;34m(self, c)\u001b[0m\n\u001b[1;32m    699\u001b[0m         \u001b[0;32mexcept\u001b[0m \u001b[0mAttributeError\u001b[0m\u001b[0;34m:\u001b[0m\u001b[0;34m\u001b[0m\u001b[0;34m\u001b[0m\u001b[0m\n\u001b[1;32m    700\u001b[0m             \u001b[0;32mpass\u001b[0m\u001b[0;34m\u001b[0m\u001b[0;34m\u001b[0m\u001b[0m\n\u001b[0;32m--> 701\u001b[0;31m         \u001b[0mself\u001b[0m\u001b[0;34m.\u001b[0m\u001b[0m_facecolors\u001b[0m \u001b[0;34m=\u001b[0m \u001b[0mmcolors\u001b[0m\u001b[0;34m.\u001b[0m\u001b[0mto_rgba_array\u001b[0m\u001b[0;34m(\u001b[0m\u001b[0mc\u001b[0m\u001b[0;34m,\u001b[0m \u001b[0mself\u001b[0m\u001b[0;34m.\u001b[0m\u001b[0m_alpha\u001b[0m\u001b[0;34m)\u001b[0m\u001b[0;34m\u001b[0m\u001b[0;34m\u001b[0m\u001b[0m\n\u001b[0m\u001b[1;32m    702\u001b[0m         \u001b[0mself\u001b[0m\u001b[0;34m.\u001b[0m\u001b[0mstale\u001b[0m \u001b[0;34m=\u001b[0m \u001b[0;32mTrue\u001b[0m\u001b[0;34m\u001b[0m\u001b[0;34m\u001b[0m\u001b[0m\n\u001b[1;32m    703\u001b[0m \u001b[0;34m\u001b[0m\u001b[0m\n",
      "\u001b[0;32m~/anaconda3/lib/python3.8/site-packages/matplotlib/colors.py\u001b[0m in \u001b[0;36mto_rgba_array\u001b[0;34m(c, alpha)\u001b[0m\n\u001b[1;32m    338\u001b[0m         \u001b[0;32mreturn\u001b[0m \u001b[0mnp\u001b[0m\u001b[0;34m.\u001b[0m\u001b[0mzeros\u001b[0m\u001b[0;34m(\u001b[0m\u001b[0;34m(\u001b[0m\u001b[0;36m0\u001b[0m\u001b[0;34m,\u001b[0m \u001b[0;36m4\u001b[0m\u001b[0;34m)\u001b[0m\u001b[0;34m,\u001b[0m \u001b[0mfloat\u001b[0m\u001b[0;34m)\u001b[0m\u001b[0;34m\u001b[0m\u001b[0;34m\u001b[0m\u001b[0m\n\u001b[1;32m    339\u001b[0m     \u001b[0;32melse\u001b[0m\u001b[0;34m:\u001b[0m\u001b[0;34m\u001b[0m\u001b[0;34m\u001b[0m\u001b[0m\n\u001b[0;32m--> 340\u001b[0;31m         \u001b[0;32mreturn\u001b[0m \u001b[0mnp\u001b[0m\u001b[0;34m.\u001b[0m\u001b[0marray\u001b[0m\u001b[0;34m(\u001b[0m\u001b[0;34m[\u001b[0m\u001b[0mto_rgba\u001b[0m\u001b[0;34m(\u001b[0m\u001b[0mcc\u001b[0m\u001b[0;34m,\u001b[0m \u001b[0malpha\u001b[0m\u001b[0;34m)\u001b[0m \u001b[0;32mfor\u001b[0m \u001b[0mcc\u001b[0m \u001b[0;32min\u001b[0m \u001b[0mc\u001b[0m\u001b[0;34m]\u001b[0m\u001b[0;34m)\u001b[0m\u001b[0;34m\u001b[0m\u001b[0;34m\u001b[0m\u001b[0m\n\u001b[0m\u001b[1;32m    341\u001b[0m \u001b[0;34m\u001b[0m\u001b[0m\n\u001b[1;32m    342\u001b[0m \u001b[0;34m\u001b[0m\u001b[0m\n",
      "\u001b[0;32m~/anaconda3/lib/python3.8/site-packages/matplotlib/colors.py\u001b[0m in \u001b[0;36m<listcomp>\u001b[0;34m(.0)\u001b[0m\n\u001b[1;32m    338\u001b[0m         \u001b[0;32mreturn\u001b[0m \u001b[0mnp\u001b[0m\u001b[0;34m.\u001b[0m\u001b[0mzeros\u001b[0m\u001b[0;34m(\u001b[0m\u001b[0;34m(\u001b[0m\u001b[0;36m0\u001b[0m\u001b[0;34m,\u001b[0m \u001b[0;36m4\u001b[0m\u001b[0;34m)\u001b[0m\u001b[0;34m,\u001b[0m \u001b[0mfloat\u001b[0m\u001b[0;34m)\u001b[0m\u001b[0;34m\u001b[0m\u001b[0;34m\u001b[0m\u001b[0m\n\u001b[1;32m    339\u001b[0m     \u001b[0;32melse\u001b[0m\u001b[0;34m:\u001b[0m\u001b[0;34m\u001b[0m\u001b[0;34m\u001b[0m\u001b[0m\n\u001b[0;32m--> 340\u001b[0;31m         \u001b[0;32mreturn\u001b[0m \u001b[0mnp\u001b[0m\u001b[0;34m.\u001b[0m\u001b[0marray\u001b[0m\u001b[0;34m(\u001b[0m\u001b[0;34m[\u001b[0m\u001b[0mto_rgba\u001b[0m\u001b[0;34m(\u001b[0m\u001b[0mcc\u001b[0m\u001b[0;34m,\u001b[0m \u001b[0malpha\u001b[0m\u001b[0;34m)\u001b[0m \u001b[0;32mfor\u001b[0m \u001b[0mcc\u001b[0m \u001b[0;32min\u001b[0m \u001b[0mc\u001b[0m\u001b[0;34m]\u001b[0m\u001b[0;34m)\u001b[0m\u001b[0;34m\u001b[0m\u001b[0;34m\u001b[0m\u001b[0m\n\u001b[0m\u001b[1;32m    341\u001b[0m \u001b[0;34m\u001b[0m\u001b[0m\n\u001b[1;32m    342\u001b[0m \u001b[0;34m\u001b[0m\u001b[0m\n",
      "\u001b[0;32m~/anaconda3/lib/python3.8/site-packages/matplotlib/colors.py\u001b[0m in \u001b[0;36mto_rgba\u001b[0;34m(c, alpha)\u001b[0m\n\u001b[1;32m    183\u001b[0m         \u001b[0mrgba\u001b[0m \u001b[0;34m=\u001b[0m \u001b[0;32mNone\u001b[0m\u001b[0;34m\u001b[0m\u001b[0;34m\u001b[0m\u001b[0m\n\u001b[1;32m    184\u001b[0m     \u001b[0;32mif\u001b[0m \u001b[0mrgba\u001b[0m \u001b[0;32mis\u001b[0m \u001b[0;32mNone\u001b[0m\u001b[0;34m:\u001b[0m  \u001b[0;31m# Suppress exception chaining of cache lookup failure.\u001b[0m\u001b[0;34m\u001b[0m\u001b[0;34m\u001b[0m\u001b[0m\n\u001b[0;32m--> 185\u001b[0;31m         \u001b[0mrgba\u001b[0m \u001b[0;34m=\u001b[0m \u001b[0m_to_rgba_no_colorcycle\u001b[0m\u001b[0;34m(\u001b[0m\u001b[0mc\u001b[0m\u001b[0;34m,\u001b[0m \u001b[0malpha\u001b[0m\u001b[0;34m)\u001b[0m\u001b[0;34m\u001b[0m\u001b[0;34m\u001b[0m\u001b[0m\n\u001b[0m\u001b[1;32m    186\u001b[0m         \u001b[0;32mtry\u001b[0m\u001b[0;34m:\u001b[0m\u001b[0;34m\u001b[0m\u001b[0;34m\u001b[0m\u001b[0m\n\u001b[1;32m    187\u001b[0m             \u001b[0m_colors_full_map\u001b[0m\u001b[0;34m.\u001b[0m\u001b[0mcache\u001b[0m\u001b[0;34m[\u001b[0m\u001b[0mc\u001b[0m\u001b[0;34m,\u001b[0m \u001b[0malpha\u001b[0m\u001b[0;34m]\u001b[0m \u001b[0;34m=\u001b[0m \u001b[0mrgba\u001b[0m\u001b[0;34m\u001b[0m\u001b[0;34m\u001b[0m\u001b[0m\n",
      "\u001b[0;32m~/anaconda3/lib/python3.8/site-packages/matplotlib/colors.py\u001b[0m in \u001b[0;36m_to_rgba_no_colorcycle\u001b[0;34m(c, alpha)\u001b[0m\n\u001b[1;32m    266\u001b[0m         \u001b[0;31m# float)` and `np.array(...).astype(float)` all convert \"0.5\" to 0.5.\u001b[0m\u001b[0;34m\u001b[0m\u001b[0;34m\u001b[0m\u001b[0;34m\u001b[0m\u001b[0m\n\u001b[1;32m    267\u001b[0m         \u001b[0;31m# Test dimensionality to reject single floats.\u001b[0m\u001b[0;34m\u001b[0m\u001b[0;34m\u001b[0m\u001b[0;34m\u001b[0m\u001b[0m\n\u001b[0;32m--> 268\u001b[0;31m         \u001b[0;32mraise\u001b[0m \u001b[0mValueError\u001b[0m\u001b[0;34m(\u001b[0m\u001b[0;34mf\"Invalid RGBA argument: {orig_c!r}\"\u001b[0m\u001b[0;34m)\u001b[0m\u001b[0;34m\u001b[0m\u001b[0;34m\u001b[0m\u001b[0m\n\u001b[0m\u001b[1;32m    269\u001b[0m     \u001b[0;31m# Return a tuple to prevent the cached value from being modified.\u001b[0m\u001b[0;34m\u001b[0m\u001b[0;34m\u001b[0m\u001b[0;34m\u001b[0m\u001b[0m\n\u001b[1;32m    270\u001b[0m     \u001b[0mc\u001b[0m \u001b[0;34m=\u001b[0m \u001b[0mtuple\u001b[0m\u001b[0;34m(\u001b[0m\u001b[0mc\u001b[0m\u001b[0;34m.\u001b[0m\u001b[0mastype\u001b[0m\u001b[0;34m(\u001b[0m\u001b[0mfloat\u001b[0m\u001b[0;34m)\u001b[0m\u001b[0;34m)\u001b[0m\u001b[0;34m\u001b[0m\u001b[0;34m\u001b[0m\u001b[0m\n",
      "\u001b[0;31mValueError\u001b[0m: Invalid RGBA argument: 0.2624871531346348"
     ]
    },
    {
     "data": {
      "image/png": "[encoded data removed]",
      "text/plain": [
       "<Figure size 432x288 with 1 Axes>"
      ]
     },
     "metadata": {
      "needs_background": "light"
     },
     "output_type": "display_data"
    }
   ],
   "source": [
    "import matplotlib as mpl\n",
    "\n",
    "coords = points_to_coords(points)\n",
    "#coords = clus_locs\n",
    "# Calculate Voronoi Regions\n",
    "poly_shapes, pts, poly_to_pt_assignments = voronoi_regions_from_coords(coords, boundary_shape, farpoints_max_extend_factor=1000)\n",
    "fig, ax = subplot_for_map()\n",
    "\n",
    "plot_voronoi_polys_with_points_in_area(ax, boundary_shape, poly_shapes, pts, poly_to_pt_assignments=None, area_color=K0_scaled[:,0] )\n",
    "\n",
    "# normalize chosen colormap\n",
    "norm = mpl.colors.Normalize(vmin=0, vmax=1, clip=True)\n",
    "mapper = cm.ScalarMappable(norm=norm, cmap=cm.Blues_r)\n",
    "\n",
    "# plot Voronoi diagram, and fill finite regions with color mapped from speed value\n",
    "#voronoi_plot_2d(vor, show_points=True, show_vertices=False, s=1)\n",
    "for r in range(len(poly_shapes)):\n",
    "    region = poly_shapes[r]\n",
    "    if not -1 in region:\n",
    "        polygon = [vor.vertices[i] for i in region]\n",
    "        plt.fill(*zip(*polygon), color=mapper.to_rgba(speed[r]))\n",
    "\n",
    "\n",
    "\n",
    "\n",
    "\n",
    "ax.set_title('K0 per Region in Los Angeles')\n",
    "\n",
    "\n",
    "\n",
    "\n",
    "\n",
    "plt.tight_layout()\n",
    "plt.show()\n"
   ]
  },
  {
   "cell_type": "code",
   "execution_count": 344,
   "metadata": {},
   "outputs": [],
   "source": [
    "import matplotlib as mpl\n",
    "import matplotlib.cm as cm\n",
    "# normalize chosen colormap\n",
    "norm = mpl.colors.Normalize(vmin=0, vmax=1, clip=True)\n",
    "mapper = cm.ScalarMappable(norm=norm, cmap=cm.Blues_r)\n",
    "\n"
   ]
  },
  {
   "cell_type": "code",
   "execution_count": null,
   "metadata": {},
   "outputs": [],
   "source": [
    "region = vor.regions[vor.point_region[r]]\n",
    "region = poly_shapes[pol]"
   ]
  },
  {
   "cell_type": "code",
   "execution_count": 482,
   "metadata": {},
   "outputs": [],
   "source": [
    "import glob\n",
    "import os\n",
    "\n",
    "def generate_video(folder, video_name):\n",
    "    os.chdir(folder)\n",
    "    subprocess.call([\n",
    "        'ffmpeg', '-framerate', '8', '-i', 'file%02d.png', '-r', '30', '-pix_fmt', 'yuv420p', 'shell=True', video_name])\n",
    "    for file_name in glob.glob(\"*.png\"):\n",
    "        os.remove(file_name)\n"
   ]
  },
  {
   "cell_type": "code",
   "execution_count": null,
   "metadata": {},
   "outputs": [],
   "source": [
    "from matplotlib.collections import PatchCollection\n",
    "from matplotlib.patches import Polygon\n",
    "\n",
    "#norm = mpl.colors.Normalize(vmin=0, vmax=1, clip=True)\n",
    "colors = cm.ScalarMappable(norm=norm, cmap=cm.Blues_r)\n",
    "\n",
    "cmap = plt.get_cmap('Reds')\n",
    "\n",
    "folder = '/home/users/sirishar/analyze/data/K0_videos/temp/'\n",
    "for i in range(24):\n",
    "    patches = []\n",
    "    fig,ax = plt.subplots(1)\n",
    "\n",
    "    colors = cmap(K0_scaled[1:15,i]) # convert nfloors to colors that we can use later\n",
    "\n",
    "# r = 0\n",
    "    for r in range(0, 15):\n",
    "        if (r != 11) & (r != 12) & (r != 13):\n",
    "            x, y = poly_shapes[r].exterior.coords.xy\n",
    "            verts = list(zip(x, y))\n",
    "            polygon = Polygon(verts)\n",
    "            patches.append(polygon)\n",
    "        \n",
    "    collection = PatchCollection(patches, cmap=cmap)\n",
    "    collection.set_color(colors)\n",
    "\n",
    "    #ax.colorbar(collection)\n",
    "    ax.add_collection(collection)\n",
    "    plt.colorbar(collection)\n",
    "    \n",
    "\n",
    "\n",
    "    ax.autoscale_view()\n",
    "\n",
    "    plt.show()\n",
    "    plt.savefig(folder + \"/frame%02d.png\" % i)\n"
   ]
  },
  {
   "cell_type": "code",
   "execution_count": 483,
   "metadata": {},
   "outputs": [
    {
     "ename": "FileNotFoundError",
     "evalue": "[Errno 2] No such file or directory: 'ffmpeg'",
     "output_type": "error",
     "traceback": [
      "\u001b[0;31m---------------------------------------------------------------------------\u001b[0m",
      "\u001b[0;31mFileNotFoundError\u001b[0m                         Traceback (most recent call last)",
      "\u001b[0;32m<ipython-input-483-f05c6ef1ae0b>\u001b[0m in \u001b[0;36m<module>\u001b[0;34m\u001b[0m\n\u001b[1;32m      1\u001b[0m \u001b[0;32mimport\u001b[0m \u001b[0msubprocess\u001b[0m\u001b[0;34m\u001b[0m\u001b[0;34m\u001b[0m\u001b[0m\n\u001b[0;32m----> 2\u001b[0;31m \u001b[0mgenerate_video\u001b[0m\u001b[0;34m(\u001b[0m\u001b[0mfolder\u001b[0m\u001b[0;34m,\u001b[0m \u001b[0;34m'K0_video.mp4'\u001b[0m\u001b[0;34m)\u001b[0m\u001b[0;34m\u001b[0m\u001b[0;34m\u001b[0m\u001b[0m\n\u001b[0m",
      "\u001b[0;32m<ipython-input-482-97a05509c902>\u001b[0m in \u001b[0;36mgenerate_video\u001b[0;34m(folder, video_name)\u001b[0m\n\u001b[1;32m      4\u001b[0m \u001b[0;32mdef\u001b[0m \u001b[0mgenerate_video\u001b[0m\u001b[0;34m(\u001b[0m\u001b[0mfolder\u001b[0m\u001b[0;34m,\u001b[0m \u001b[0mvideo_name\u001b[0m\u001b[0;34m)\u001b[0m\u001b[0;34m:\u001b[0m\u001b[0;34m\u001b[0m\u001b[0;34m\u001b[0m\u001b[0m\n\u001b[1;32m      5\u001b[0m     \u001b[0mos\u001b[0m\u001b[0;34m.\u001b[0m\u001b[0mchdir\u001b[0m\u001b[0;34m(\u001b[0m\u001b[0mfolder\u001b[0m\u001b[0;34m)\u001b[0m\u001b[0;34m\u001b[0m\u001b[0;34m\u001b[0m\u001b[0m\n\u001b[0;32m----> 6\u001b[0;31m     subprocess.call([\n\u001b[0m\u001b[1;32m      7\u001b[0m         'ffmpeg', '-framerate', '8', '-i', 'file%02d.png', '-r', '30', '-pix_fmt', 'yuv420p', 'shell=True', video_name])\n\u001b[1;32m      8\u001b[0m     \u001b[0;32mfor\u001b[0m \u001b[0mfile_name\u001b[0m \u001b[0;32min\u001b[0m \u001b[0mglob\u001b[0m\u001b[0;34m.\u001b[0m\u001b[0mglob\u001b[0m\u001b[0;34m(\u001b[0m\u001b[0;34m\"*.png\"\u001b[0m\u001b[0;34m)\u001b[0m\u001b[0;34m:\u001b[0m\u001b[0;34m\u001b[0m\u001b[0;34m\u001b[0m\u001b[0m\n",
      "\u001b[0;32m~/anaconda3/lib/python3.8/subprocess.py\u001b[0m in \u001b[0;36mcall\u001b[0;34m(timeout, *popenargs, **kwargs)\u001b[0m\n\u001b[1;32m    338\u001b[0m     \u001b[0mretcode\u001b[0m \u001b[0;34m=\u001b[0m \u001b[0mcall\u001b[0m\u001b[0;34m(\u001b[0m\u001b[0;34m[\u001b[0m\u001b[0;34m\"ls\"\u001b[0m\u001b[0;34m,\u001b[0m \u001b[0;34m\"-l\"\u001b[0m\u001b[0;34m]\u001b[0m\u001b[0;34m)\u001b[0m\u001b[0;34m\u001b[0m\u001b[0;34m\u001b[0m\u001b[0m\n\u001b[1;32m    339\u001b[0m     \"\"\"\n\u001b[0;32m--> 340\u001b[0;31m     \u001b[0;32mwith\u001b[0m \u001b[0mPopen\u001b[0m\u001b[0;34m(\u001b[0m\u001b[0;34m*\u001b[0m\u001b[0mpopenargs\u001b[0m\u001b[0;34m,\u001b[0m \u001b[0;34m**\u001b[0m\u001b[0mkwargs\u001b[0m\u001b[0;34m)\u001b[0m \u001b[0;32mas\u001b[0m \u001b[0mp\u001b[0m\u001b[0;34m:\u001b[0m\u001b[0;34m\u001b[0m\u001b[0;34m\u001b[0m\u001b[0m\n\u001b[0m\u001b[1;32m    341\u001b[0m         \u001b[0;32mtry\u001b[0m\u001b[0;34m:\u001b[0m\u001b[0;34m\u001b[0m\u001b[0;34m\u001b[0m\u001b[0m\n\u001b[1;32m    342\u001b[0m             \u001b[0;32mreturn\u001b[0m \u001b[0mp\u001b[0m\u001b[0;34m.\u001b[0m\u001b[0mwait\u001b[0m\u001b[0;34m(\u001b[0m\u001b[0mtimeout\u001b[0m\u001b[0;34m=\u001b[0m\u001b[0mtimeout\u001b[0m\u001b[0;34m)\u001b[0m\u001b[0;34m\u001b[0m\u001b[0;34m\u001b[0m\u001b[0m\n",
      "\u001b[0;32m~/anaconda3/lib/python3.8/subprocess.py\u001b[0m in \u001b[0;36m__init__\u001b[0;34m(self, args, bufsize, executable, stdin, stdout, stderr, preexec_fn, close_fds, shell, cwd, env, universal_newlines, startupinfo, creationflags, restore_signals, start_new_session, pass_fds, encoding, errors, text)\u001b[0m\n\u001b[1;32m    852\u001b[0m                             encoding=encoding, errors=errors)\n\u001b[1;32m    853\u001b[0m \u001b[0;34m\u001b[0m\u001b[0m\n\u001b[0;32m--> 854\u001b[0;31m             self._execute_child(args, executable, preexec_fn, close_fds,\n\u001b[0m\u001b[1;32m    855\u001b[0m                                 \u001b[0mpass_fds\u001b[0m\u001b[0;34m,\u001b[0m \u001b[0mcwd\u001b[0m\u001b[0;34m,\u001b[0m \u001b[0menv\u001b[0m\u001b[0;34m,\u001b[0m\u001b[0;34m\u001b[0m\u001b[0;34m\u001b[0m\u001b[0m\n\u001b[1;32m    856\u001b[0m                                 \u001b[0mstartupinfo\u001b[0m\u001b[0;34m,\u001b[0m \u001b[0mcreationflags\u001b[0m\u001b[0;34m,\u001b[0m \u001b[0mshell\u001b[0m\u001b[0;34m,\u001b[0m\u001b[0;34m\u001b[0m\u001b[0;34m\u001b[0m\u001b[0m\n",
      "\u001b[0;32m~/anaconda3/lib/python3.8/subprocess.py\u001b[0m in \u001b[0;36m_execute_child\u001b[0;34m(self, args, executable, preexec_fn, close_fds, pass_fds, cwd, env, startupinfo, creationflags, shell, p2cread, p2cwrite, c2pread, c2pwrite, errread, errwrite, restore_signals, start_new_session)\u001b[0m\n\u001b[1;32m   1700\u001b[0m                     \u001b[0;32mif\u001b[0m \u001b[0merrno_num\u001b[0m \u001b[0;34m!=\u001b[0m \u001b[0;36m0\u001b[0m\u001b[0;34m:\u001b[0m\u001b[0;34m\u001b[0m\u001b[0;34m\u001b[0m\u001b[0m\n\u001b[1;32m   1701\u001b[0m                         \u001b[0merr_msg\u001b[0m \u001b[0;34m=\u001b[0m \u001b[0mos\u001b[0m\u001b[0;34m.\u001b[0m\u001b[0mstrerror\u001b[0m\u001b[0;34m(\u001b[0m\u001b[0merrno_num\u001b[0m\u001b[0;34m)\u001b[0m\u001b[0;34m\u001b[0m\u001b[0;34m\u001b[0m\u001b[0m\n\u001b[0;32m-> 1702\u001b[0;31m                     \u001b[0;32mraise\u001b[0m \u001b[0mchild_exception_type\u001b[0m\u001b[0;34m(\u001b[0m\u001b[0merrno_num\u001b[0m\u001b[0;34m,\u001b[0m \u001b[0merr_msg\u001b[0m\u001b[0;34m,\u001b[0m \u001b[0merr_filename\u001b[0m\u001b[0;34m)\u001b[0m\u001b[0;34m\u001b[0m\u001b[0;34m\u001b[0m\u001b[0m\n\u001b[0m\u001b[1;32m   1703\u001b[0m                 \u001b[0;32mraise\u001b[0m \u001b[0mchild_exception_type\u001b[0m\u001b[0;34m(\u001b[0m\u001b[0merr_msg\u001b[0m\u001b[0;34m)\u001b[0m\u001b[0;34m\u001b[0m\u001b[0;34m\u001b[0m\u001b[0m\n\u001b[1;32m   1704\u001b[0m \u001b[0;34m\u001b[0m\u001b[0m\n",
      "\u001b[0;31mFileNotFoundError\u001b[0m: [Errno 2] No such file or directory: 'ffmpeg'"
     ]
    }
   ],
   "source": [
    "import subprocess\n",
    "generate_video(folder, 'K0_video.mp4')"
   ]
  },
  {
   "cell_type": "code",
   "execution_count": 399,
   "metadata": {},
   "outputs": [],
   "source": [
    "#patches = []\n",
    "r = 1\n",
    "x, y = poly_shapes[r].exterior.coords.xy\n",
    "verts = list(zip(x, y))\n",
    "polygon = Polygon(verts)\n",
    "patches.append(polygon)\n",
    "collection = PatchCollection(patches)\n"
   ]
  },
  {
   "cell_type": "code",
   "execution_count": 414,
   "metadata": {},
   "outputs": [
    {
     "data": {
      "text/plain": [
       "13"
      ]
     },
     "execution_count": 414,
     "metadata": {},
     "output_type": "execute_result"
    }
   ],
   "source": [
    "r"
   ]
  },
  {
   "cell_type": "code",
   "execution_count": 258,
   "metadata": {},
   "outputs": [],
   "source": [
    "#import geoplot\n",
    "world = gpd.read_file(\n",
    "    gpd.datasets.get_path('naturalearth_lowres')\n",
    ")\n",
    "\n",
    "#geoplot.kdeplot(clus_locs, clip=boroughs.geometry,shade=True, cmap='Reds',projection=geoplot.crs.AlbersEqualArea())\n",
    "#geoplot.polyplot(boroughs, ax=ax, zorder=1)\n",
    "\n"
   ]
  },
  {
   "cell_type": "code",
   "execution_count": 260,
   "metadata": {},
   "outputs": [],
   "source": []
  },
  {
   "cell_type": "code",
   "execution_count": 275,
   "metadata": {},
   "outputs": [
    {
     "data": {
      "image/svg+xml": [
       "<svg xmlns=\"http://www.w3.org/2000/svg\" xmlns:xlink=\"http://www.w3.org/1999/xlink\" width=\"100.0\" height=\"100.0\" viewBox=\"-119.025735973904 32.72058844 1.6932955339040063 2.183586120000001\" preserveAspectRatio=\"xMinYMin meet\"><g transform=\"matrix(1,0,0,-1,0,67.624763)\"><g><path fill-rule=\"evenodd\" fill=\"#66cc99\" stroke=\"#555555\" stroke-width=\"0.04367172240000002\" opacity=\"0.6\" d=\"M -118.604415,33.478552 L -118.598783,33.477939 L -118.585936,33.473819 L -118.580255,33.475099 L -118.570351,33.47531 L -118.557605,33.474722 L -118.54453,33.474119 L -118.538624,33.477015 L -118.534276,33.473493 L -118.53070199999999,33.468071 L -118.528239,33.466603 L -118.52476899999999,33.466355 L -118.522635,33.462016 L -118.510537,33.455313 L -118.50285,33.453302 L -118.500212,33.449591999999996 L -118.499574,33.445931 L -118.500288,33.443352 L -118.497435,33.441964 L -118.49363199999999,33.442558999999996 L -118.48935399999999,33.445336 L -118.486264,33.446723999999996 L -118.482224,33.44831 L -118.477646,33.448392 L -118.473485,33.442876999999996 L -118.47034,33.442955999999995 L -118.454636,33.433961 L -118.449535,33.432673 L -118.445812,33.428906999999995 L -118.44227599999999,33.428644999999996 L -118.436905,33.428637 L -118.434805,33.426781 L -118.430172,33.428278 L -118.423576,33.427258 L -118.409099,33.421203 L -118.406444,33.421559 L -118.39525,33.416204 L -118.39095499999999,33.417963 L -118.382037,33.409883 L -118.377169,33.410821 L -118.370323,33.409285 L -118.368301,33.407109999999996 L -118.36726999999999,33.401088 L -118.370161,33.396012999999996 L -118.368126,33.389533 L -118.365094,33.388374 L -118.3587,33.381633 L -118.351275,33.373936 L -118.332486,33.358228 L -118.331314021324,33.3558509398843 L -118.329158,33.351478 L -118.32446,33.348782 L -118.32274100000001,33.344727999999996 L -118.32184167406301,33.3442993177889 L -118.318476,33.342695 L -118.31652569501901,33.3408250322726 L -118.310222,33.334781 L -118.310213,33.335795 L -118.309064992916,33.3309 L -118.308955,33.330431 L -118.307767,33.323479999999996 L -118.30539,33.320898 L -118.30539,33.315933 L -118.305084,33.310323 L -118.306816,33.308385 L -118.312045,33.306597 L -118.316787,33.301137 L -118.325244,33.299075 L -118.343249,33.305234 L -118.35404199999999,33.313111 L -118.360332,33.315329999999996 L -118.367806,33.317254 L -118.374768,33.320065 L -118.384564,33.321019 L -118.393055,33.319659 L -118.402941,33.320901 L -118.408543,33.321494 L -118.413767,33.320240999999996 L -118.424258,33.317839 L -118.431112,33.319182999999995 L -118.436352,33.320104 L -118.441066,33.318554999999996 L -118.456309,33.321819999999995 L -118.465368,33.326056 L -118.474143,33.334204 L -118.48293699999999,33.344331 L -118.487453,33.350882999999996 L -118.48877,33.356649 L -118.489592,33.360412 L -118.48721499999999,33.365772 L -118.482609,33.369914 L -118.485789,33.372918 L -118.481086,33.375946 L -118.482462,33.380261 L -118.478421,33.381848999999995 L -118.475331,33.383238 L -118.47652,33.385818 L -118.478465,33.38632 L -118.48103499999999,33.388994 L -118.48223899999999,33.396108 L -118.485575,33.401176 L -118.486264,33.404669999999996 L -118.487453,33.409233 L -118.484949,33.412130999999995 L -118.48769,33.414392 L -118.48875,33.419826 L -118.495059,33.422129 L -118.49817,33.421447 L -118.503952,33.424234 L -118.507656,33.426691 L -118.511696,33.429667 L -118.51336,33.427683 L -118.514073,33.423517 L -118.515914,33.422416999999996 L -118.516267,33.425075 L -118.52323,33.430733 L -118.533681,33.429183 L -118.536415,33.430658 L -118.53738,33.434608 L -118.542357,33.434824 L -118.545441,33.434159 L -118.548061,33.435617 L -118.552577,33.435617 L -118.555178,33.43338 L -118.558715,33.433419 L -118.563442,33.434381 L -118.565854,33.437503 L -118.570927,33.439350999999995 L -118.575394,33.440179 L -118.573317,33.443633 L -118.575901,33.448260999999995 L -118.579435,33.449301999999996 L -118.58609,33.456243 L -118.589886,33.461521 L -118.59274500000001,33.46239 L -118.595122,33.465165999999996 L -118.593969,33.467197999999996 L -118.601185,33.469853 L -118.603916,33.473493 L -118.607243,33.478449 L -118.604415,33.478552 z\" /><path fill-rule=\"evenodd\" fill=\"#66cc99\" stroke=\"#555555\" stroke-width=\"0.04367172240000002\" opacity=\"0.6\" d=\"M -118.6105,33.032941 L -118.59885299999999,33.036329 L -118.595763,33.034335999999996 L -118.593862,33.03055 L -118.586732,33.031746 L -118.57988,33.034459 L -118.573897,33.03055 L -118.56843,33.024969999999996 L -118.56843,33.020188 L -118.565578,33.014807 L -118.562726,33.006834 L -118.558448,33.006834 L -118.55274299999999,33.002848 L -118.550842,32.996668 L -118.549891,32.989492 L -118.542999,32.98072 L -118.536247,32.977404 L -118.534204,32.971945999999996 L -118.52446,32.964369 L -118.519196,32.95856 L -118.51828,32.954198 L -118.499503,32.933654 L -118.488332,32.923679 L -118.48357899999999,32.921484 L -118.470893,32.915948 L -118.463614,32.909712 L -118.456958,32.900932 L -118.423446,32.875783999999996 L -118.406808,32.864205999999996 L -118.397328,32.857447 L -118.386605,32.848233 L -118.373533,32.839047 L -118.354185,32.820918999999996 L -118.360936,32.817077999999995 L -118.367591,32.820873 L -118.377811,32.822471 L -118.383031,32.824948 L -118.391834,32.826266 L -118.40086600000001,32.823869 L -118.406095,32.821073 L -118.40871,32.813083 L -118.41584,32.810885999999996 L -118.422733,32.809287 L -118.427249,32.806689999999996 L -118.431809,32.801462 L -118.434141,32.805372 L -118.436233,32.811445 L -118.439396,32.815671 L -118.444029,32.816718 L -118.450931,32.822112 L -118.452585,32.820553 L -118.454677,32.821033 L -118.462016,32.82814 L -118.467987,32.832217 L -118.475402,32.835093 L -118.477684,32.840365 L -118.489853,32.84372 L -118.495368,32.846115999999995 L -118.495938,32.84979 L -118.499922,32.851777 L -118.50620599999999,32.852985 L -118.505065,32.857138 L -118.507537,32.863527 L -118.513051,32.868957 L -118.513811,32.873269 L -118.51229000000001,32.879177999999996 L -118.52503,32.886523 L -118.53054399999999,32.894985 L -118.535823,32.906279999999995 L -118.542143,32.906799 L -118.547087,32.911907 L -118.545565,32.9151 L -118.546835,32.918408 L -118.55203,32.91925 L -118.549559,32.924198 L -118.55145999999999,32.930582 L -118.555453,32.934252 L -118.556404,32.947018 L -118.561347,32.951805 L -118.56439,32.958506 L -118.57408699999999,32.964887 L -118.58036200000001,32.974299 L -118.582263,32.982594 L -118.581883,32.987698 L -118.584735,32.98993 L -118.590249,33.005559 L -118.593435,33.012386 L -118.597475,33.013211999999996 L -118.601468,33.017039 L -118.606982,33.015125999999995 L -118.610262,33.015803 L -118.6105,33.032941 z\" /><path fill-rule=\"evenodd\" fill=\"#66cc99\" stroke=\"#555555\" stroke-width=\"0.04367172240000002\" opacity=\"0.6\" d=\"M -118.944502,34.046563 L -118.940801,34.074967 L -118.892195,34.104817 L -118.87690599999999,34.11421 L -118.868065,34.11964 L -118.856473,34.126765 L -118.833456,34.140882 L -118.826082,34.145407999999996 L -118.82095100000001,34.148554 L -118.81488,34.152266 L -118.806404,34.157472 L -118.789376,34.167911 L -118.788889,34.168214 L -118.788749,34.168213 L -118.775577,34.168158 L -118.77400399999999,34.168146 L -118.758599,34.168073 L -118.758468,34.168073 L -118.755581,34.168059 L -118.744934,34.168005 L -118.740157,34.167975 L -118.728689,34.167892 L -118.723374,34.167860999999995 L -118.716891,34.168288 L -118.711994,34.168619 L -118.710916,34.168617 L -118.70339200000001,34.168591 L -118.693834,34.168557 L -118.67566,34.168286 L -118.674241,34.168268 L -118.66815199999999,34.168195 L -118.668153,34.17675 L -118.668162,34.184141 L -118.66814,34.191331 L -118.66805,34.194970999999995 L -118.667944,34.199166 L -118.6678,34.206635 L -118.6678,34.206773 L -118.667796,34.209329 L -118.66778,34.216516999999996 L -118.667773,34.223425999999996 L -118.667708,34.236692 L -118.66771299999999,34.240404 L -118.650138,34.240403 L -118.648113,34.240435 L -118.632495,34.240426 L -118.632537,34.241948 L -118.63260199999999,34.25493 L -118.63254599999999,34.263351 L -118.633281,34.268322 L -118.633461,34.269521999999995 L -118.633494,34.269812 L -118.633544,34.270241999999996 L -118.636789,34.291804 L -118.650859,34.320484 L -118.652285,34.323392 L -118.670593,34.360692 L -118.677616,34.374992999999996 L -118.691397,34.403033 L -118.69290000000001,34.406088 L -118.722616,34.466483 L -118.722668,34.466587 L -118.72271599999999,34.466685999999996 L -118.726568,34.474506999999996 L -118.738618,34.498968999999995 L -118.796842,34.616566999999996 L -118.821077,34.665791 L -118.88136399999999,34.790628999999996 L -118.893056,34.814717 L -118.894634,34.817972 L -118.884388,34.817651 L -118.881729,34.817802 L -118.88374999999999,34.815528 L -118.884525,34.813812 L -118.884642,34.811795 L -118.883381,34.808637 L -118.88253,34.807662 L -118.87728899999999,34.803211999999995 L -118.870926,34.803109 L -118.854114,34.803278999999996 L -118.854253,34.817772 L -118.843579,34.817761 L -118.836589,34.817504 L -118.78689,34.817715 L -118.785537,34.817817 L -118.690867,34.818095 L -118.626162,34.818193 L -118.625688,34.818225 L -118.62500299999999,34.818266 L -118.587591,34.818022 L -118.571879,34.818025 L -118.569714,34.818255 L -118.56365199999999,34.818025 L -118.559404,34.818303 L -118.326281,34.819725999999996 L -118.290456,34.820102999999996 L -118.23767,34.820146 L -118.22004799999999,34.820138 L -118.170237,34.820513 L -118.16678,34.820568 L -118.140074,34.82078 L -118.13083,34.820733 L -118.125834,34.821013 L -118.042259,34.821951999999996 L -118.023406,34.822162999999996 L -117.774368,34.823301 L -117.667292,34.822525999999996 L -117.667244,34.734334 L -117.667108,34.715855 L -117.667323,34.713028 L -117.667085,34.690155 L -117.667087,34.67552 L -117.666923,34.631653 L -117.666954,34.603367 L -117.667221,34.600545 L -117.666969,34.597518 L -117.667068,34.587458 L -117.666984,34.587267 L -117.667074,34.576158 L -117.666651,34.573464 L -117.667034,34.558008 L -117.659994,34.55804 L -117.660346,34.557848 L -117.66005200000001,34.498629 L -117.659792,34.462523 L -117.659673,34.451605 L -117.655235,34.397222 L -117.655213,34.396952999999996 L -117.65268499999999,34.366164999999995 L -117.65224599999999,34.360808999999996 L -117.652119,34.359249999999996 L -117.650459,34.339025 L -117.650454,34.338963 L -117.647027,34.297129 L -117.646924,34.295874999999995 L -117.646374,34.28917 L -117.652907,34.262969 L -117.656255,34.249765 L -117.66073,34.232393 L -117.661396,34.22976 L -117.663777,34.220334 L -117.677405,34.166103 L -117.677706,34.165172999999996 L -117.677576,34.164367999999996 L -117.681713,34.155826999999995 L -117.683264,34.150487999999996 L -117.685551,34.142486 L -117.68679900000001,34.138121999999996 L -117.689171,34.132318 L -117.693545,34.121627 L -117.69958199999999,34.106823999999996 L -117.702479,34.099533 L -117.704433,34.095346 L -117.70429,34.095054999999995 L -117.704622,34.094221 L -117.704725,34.093956999999996 L -117.705342,34.09261 L -117.70848,34.085254 L -117.709413,34.083155 L -117.70992799999999,34.081984 L -117.711067,34.079536 L -117.712087,34.077213 L -117.712677,34.075893 L -117.713409,34.074256999999996 L -117.715019,34.070591 L -117.716599,34.066887 L -117.718007,34.063175 L -117.719481,34.059731 L -117.719547,34.059476 L -117.720837,34.055854 L -117.722224,34.052183 L -117.723564,34.048469 L -117.724411,34.045448 L -117.724434,34.044865 L -117.724509,34.044686999999996 L -117.72608,34.040935 L -117.728038,34.033632 L -117.728059,34.033543 L -117.72867600000001,34.029835 L -117.72948099999999,34.025138999999996 L -117.730125,34.021370999999995 L -117.731717,34.020589 L -117.735344,34.0188 L -117.735846,34.018554 L -117.744342,34.019852 L -117.744385,34.019859 L -117.745378,34.020018 L -117.745417,34.020024 L -117.76769,34.023506 L -117.767752,34.019428999999995 L -117.76722699999999,34.013567 L -117.767045,34.011192 L -117.767483,34.004611 L -117.769921,34.004639 L -117.779771,34.00475 L -117.785062,34.004809 L -117.79111,33.994676999999996 L -117.802539,33.975550999999996 L -117.802469,33.970076 L -117.802445,33.968308 L -117.793667,33.968135 L -117.79358500000001,33.957895 L -117.793578,33.95379 L -117.783287,33.946411 L -117.78186600000001,33.945395999999995 L -117.772911,33.939093 L -117.768225,33.935767 L -117.765567,33.933834 L -117.748097,33.921431999999996 L -117.737752,33.914732 L -117.73546400000001,33.913250999999995 L -117.73253199999999,33.911352 L -117.710282,33.896736 L -117.70729399999999,33.894812 L -117.687857,33.88229 L -117.680289,33.877412 L -117.677198,33.873945 L -117.673749,33.870830999999995 L -117.673134,33.871005 L -117.672568,33.870397 L -117.672439,33.870258 L -117.67224999999999,33.870055 L -117.671928,33.86971 L -117.67160799999999,33.869368 L -117.67505299999999,33.868725 L -117.674519,33.861588 L -117.674282,33.857956 L -117.662117,33.857499 L -117.63665,33.829975 L -117.607639,33.797731 L -117.580789,33.769477 L -117.580136,33.767987999999995 L -117.574628,33.766455 L -117.569175,33.76461 L -117.548355,33.760112 L -117.542265,33.758801 L -117.53644800000001,33.757664999999996 L -117.535807,33.750018 L -117.535316,33.736028999999995 L -117.535033,33.727542 L -117.534137,33.712584 L -117.533999,33.710355 L -117.497645,33.705574999999996 L -117.47457299999999,33.703811 L -117.459817,33.691714 L -117.457862,33.690219 L -117.455887,33.688953999999995 L -117.424038,33.667017 L -117.413314,33.659302 L -117.413899,33.657652999999996 L -117.415815,33.655268 L -117.457937,33.602188999999996 L -117.460901,33.598031 L -117.466296,33.591087 L -117.496701,33.552614999999996 L -117.501162,33.545814 L -117.506238,33.539496 L -117.51021,33.533999 L -117.509909,33.520545999999996 L -117.503181,33.520405 L -117.503756,33.508945 L -117.509725,33.509062 L -117.509722,33.505019 L -117.509455,33.484027 L -117.509581,33.471633 L -117.508614,33.469614 L -117.51501400000001,33.467739 L -117.52691899999999,33.461776 L -117.527599,33.461135999999996 L -117.53842900000001,33.455643 L -117.542667,33.454986999999996 L -117.548282,33.453669 L -117.554085,33.452524 L -117.557226,33.451194 L -117.557985,33.451633 L -117.56813,33.452906999999996 L -117.573339,33.453339 L -117.57848,33.453927 L -117.583508,33.435413 L -117.588415,33.416832 L -117.590519,33.407544 L -117.593599,33.396819 L -117.596147232519,33.3871676935322 L -117.602263,33.399496 L -117.60727822561101,33.4055592495383 L -117.607905,33.406317 L -117.60974703508501,33.408416679208194 L -117.612495,33.411549 L -117.617294,33.416196 L -117.620035922967,33.419457516245004 L -117.62217,33.421996 L -117.625891,33.424631999999995 L -117.631682,33.430527999999995 L -117.631740265841,33.4305744823985 L -117.633779719464,33.4322014853532 L -117.642595,33.439234 L -117.64558199999999,33.440728 L -117.645590475743,33.4407344682672 L -117.64587382458801,33.4409507060779 L -117.650688133729,33.4446247484685 L -117.652692,33.446154 L -117.658067,33.449549999999995 L -117.663589,33.451980999999996 L -117.668314000402,33.4549334017417 L -117.673385,33.458102 L -117.681025,33.461754 L -117.684264212833,33.4619114554145 L -117.684584,33.461926999999996 L -117.68942,33.461658 L -117.689933,33.457845999999996 L -117.69198399999999,33.456627 L -117.69135299999999,33.454355 L -117.691384,33.454028 L -117.694693,33.455604 L -117.704675,33.457878 L -117.707093,33.460285 L -117.70855,33.46063 L -117.709652,33.460332 L -117.713370543169,33.460018938359596 L -117.714617,33.459914 L -117.715349,33.460556 L -117.715657,33.461675 L -117.715688,33.462657 L -117.714783,33.463262 L -117.715102,33.464462999999995 L -117.72036299999999,33.472910999999996 L -117.721616,33.473427 L -117.725553332195,33.4815118710374 L -117.72643251133101,33.4833171670033 L -117.726486,33.483427 L -117.73195254934701,33.484659260023 L -117.7333,33.484963 L -117.73415982927202,33.48582396311279 L -117.736930297021,33.4885980842261 L -117.73785,33.489519 L -117.739057040307,33.49332969725201 L -117.73955,33.494886 L -117.745900121131,33.500454843242 L -117.74628799999999,33.500795 L -117.753647135784,33.5104942155721 L -117.754974,33.512243 L -117.759725,33.514417 L -117.761387,33.516326 L -117.76318656236401,33.5189103007938 L -117.765063,33.521605 L -117.769151,33.525132 L -117.77396035214801,33.529323694546996 L -117.776844,33.531836999999996 L -117.779623540442,33.5351846116113 L -117.782690350999,33.538878204435 L -117.784888,33.541525 L -117.788621431492,33.5426175199525 L -117.789036604692,33.5427390127417 L -117.79248799999999,33.543749 L -117.792863012556,33.5438587337878 L -117.792935687705,33.5438799995273 L -117.801288,33.546324 L -117.804936775734,33.547782083977395 L -117.806916,33.548573 L -117.806980506149,33.5488290861813 L -117.807515,33.550951 L -117.811379,33.55232 L -117.813513,33.551209 L -117.814777345952,33.551911926641594 L -117.818587379913,33.554030155731596 L -117.81982099999999,33.554716 L -117.82007157039001,33.5566816546776 L -117.820304,33.558505 L -117.826188,33.563001 L -117.828968532272,33.56421618991 L -117.833446,33.566173 L -117.834407884509,33.567206150832 L -117.836703491457,33.5696718400128 L -117.839534307378,33.5727123919663 L -117.84025324687201,33.5734845979119 L -117.840289,33.573523 L -117.846943570933,33.5766199290474 L -117.853332,33.579592999999996 L -117.85858624312701,33.582610178741895 L -117.861134113801,33.58407325935119 L -117.86427,33.585874 L -117.86614764088401,33.5873392496233 L -117.870749,33.59093 L -117.873352,33.592932999999995 L -117.87679,33.592321999999996 L -117.878044124759,33.592764990129794 L -117.87889664972901,33.5930661245617 L -117.89364226074801,33.5982746654898 L -117.89924180130801,33.6002525717392 L -117.89926,33.600259 L -117.92663203894601,33.6068528831608 L -117.928019,33.607186999999996 L -117.940591,33.620021 L -117.957309626045,33.6295776053814 L -117.95749108767001,33.629681331437695 L -117.957547941498,33.6297138298976 L -117.95793609656,33.629935704873596 L -117.965047927353,33.6340009289084 L -117.97087969596801,33.637334451123294 L -117.98789897538201,33.647062914264 L -118.000593,33.654319 L -118.00080572504702,33.654480541211896 L -118.005471002914,33.6580233052265 L -118.00818354100299,33.6600831787442 L -118.008427656492,33.66026855753469 L -118.018783843459,33.6681329393697 L -118.029694,33.676418 L -118.03229026499301,33.6786787438614 L -118.040179,33.685548 L -118.05559205405501,33.7014312532279 L -118.064895,33.711017999999996 L -118.06542284220801,33.7114615693105 L -118.07871733257402,33.7226335215186 L -118.07949688008901,33.723288610006 L -118.086975238717,33.7295730077451 L -118.088928,33.731214 L -118.09486186558401,33.733870904578694 L -118.113647,33.742281999999996 L -118.11541107728301,33.7432945549888 L -118.132595110124,33.7531579426908 L -118.132698,33.753217 L -118.136934513913,33.7545459203814 L -118.14656265798901,33.7575661009257 L -118.156429,33.760661 L -118.156757879998,33.7607417891292 L -118.159907459484,33.761515481010996 L -118.16649742171602,33.7631343003815 L -118.166887,33.76323 L -118.1755,33.763616999999996 L -118.176198747974,33.763587609363604 L -118.17637595182401,33.7635801558408 L -118.18035,33.763413 L -118.17962,33.759181 L -118.179848969804,33.7589618947527 L -118.184574795877,33.7544396683534 L -118.187708646817,33.751440831064 L -118.18865653113801,33.7505337838237 L -118.189833,33.749407999999995 L -118.18584,33.738254 L -118.18573425928501,33.7376161692958 L -118.183342,33.723186 L -118.197436491762,33.7231252269241 L -118.206534,33.723085999999995 L -118.23199204523301,33.7148399728315 L -118.232947994158,33.7145303347293 L -118.24461780058101,33.7107504081902 L -118.247762674392,33.709731763017295 L -118.262297,33.705024 L -118.269645,33.704029999999996 L -118.271736695544,33.704876579407696 L -118.277208,33.707091 L -118.277973646643,33.7072771186745 L -118.277979661873,33.7072785808984 L -118.283540991907,33.7086304674177 L -118.284296,33.708814 L -118.2854122865,33.707911004444895 L -118.28589791404,33.7075181666659 L -118.287998876897,33.7058186387034 L -118.288373,33.705515999999996 L -118.292873356242,33.705232579279496 L -118.294788,33.705112 L -118.295110239771,33.7058199655875 L -118.296463,33.708791999999995 L -118.310155,33.712931999999995 L -118.31156162340501,33.7134962726604 L -118.314141,33.714531 L -118.317482,33.71363 L -118.320359,33.717186 L -118.32121556571,33.7175240016063 L -118.322314556494,33.7179576643668 L -118.32407541467602,33.7186525006033 L -118.33289357636201,33.7221321552055 L -118.342622,33.725971 L -118.352052,33.727681 L -118.354705,33.732317 L -118.360505,33.736816999999995 L -118.364121,33.737998 L -118.36794499999999,33.738085999999996 L -118.36931,33.736315 L -118.36972021497901,33.7364102442351 L -118.373635232807,33.7373192380487 L -118.375351827301,33.737717799139695 L -118.376283,33.737933999999996 L -118.376531,33.740444 L -118.381749,33.742875 L -118.385006,33.741417 L -118.38979429006001,33.739552884065596 L -118.39289569647401,33.738345484128594 L -118.398286,33.736247 L -118.402885,33.739401 L -118.404415,33.741171 L -118.411211,33.741985 L -118.41139716647201,33.7423394381553 L -118.414152142573,33.747584575123 L -118.41421556737201,33.7477053281701 L -118.41427999999999,33.747828 L -118.418352,33.759475 L -118.42057034919901,33.7618073470259 L -118.422038857667,33.763351320066 L -118.422446045219,33.7637794324106 L -118.42292499999999,33.764283 L -118.423945374797,33.7662242998376 L -118.42446677230001,33.7672162773846 L -118.424936,33.768108999999995 L -118.42191700000001,33.769355 L -118.42373308900402,33.772373221525704 L -118.423819,33.772515999999996 L -118.42714699999999,33.772318 L -118.42829171055901,33.774495675562605 L -118.42840699999999,33.774715 L -118.427048141908,33.77669893281389 L -118.42448439813501,33.780441998722594 L -118.423407,33.782015 L -118.422657764543,33.7827560765859 L -118.42023844363301,33.785149052067794 L -118.42009325589,33.7852926587749 L -118.417438,33.787918999999995 L -118.406999,33.791889999999995 L -118.407408568928,33.7934900955591 L -118.408297,33.796960999999996 L -118.405007,33.800215 L -118.400022285949,33.802125030617795 L -118.394376070379,33.8042885337802 L -118.394307,33.804314999999995 L -118.391507,33.815415 L -118.391506490151,33.815425247667 L -118.391053742248,33.8245252077666 L -118.390875011333,33.828117591483 L -118.390838873728,33.8288439355918 L -118.390511,33.835434 L -118.391103,33.838771 L -118.392027,33.838723 L -118.392477583363,33.8390036614674 L -118.395387667506,33.8408163082553 L -118.399709,33.843508 L -118.401798,33.847951 L -118.40171393041801,33.8484786472454 L -118.40156999999999,33.849382 L -118.400096484591,33.8501374320985 L -118.399479,33.850454 L -118.399484377404,33.8517234513727 L -118.399493,33.853759 L -118.40087178364901,33.8569051098863 L -118.402912055249,33.8615606036307 L -118.402962040086,33.8616746590802 L -118.40954831069301,33.8767032178307 L -118.40963954229201,33.8769113901839 L -118.41269538547301,33.8838842161597 L -118.412708,33.883913 L -118.414654067515,33.8876082481903 L -118.41561099890902,33.88942529666139 L -118.416260078565,33.890657787522 L -118.41754492708401,33.8930974943305 L -118.419224092145,33.8962859405721 L -118.41943678534301,33.896689808449494 L -118.42108280856601,33.899815324029795 L -118.42196337216402,33.901487363162396 L -118.42201784513202,33.9015907979799 L -118.423654974265,33.9046994252093 L -118.42367449067201,33.9047364835165 L -118.430011733396,33.91676981973669 L -118.435197538436,33.9266167734248 L -118.44241,33.940312 L -118.442490840366,33.940462141887494 L -118.44822599166,33.9511138308875 L -118.450677,33.955666 L -118.45582223698501,33.9626297317564 L -118.460611,33.969111 L -118.46864082003601,33.97835416677069 L -118.47307012683599,33.983452764404596 L -118.47660046319301,33.987516552579 L -118.48346684785301,33.995420482959595 L -118.484998,33.997183 L -118.48758449205302,33.999843682198495 L -118.49311546350201,34.0055333023368 L -118.502813,34.015509 L -118.50282553746601,34.0155180084182 L -118.509618879472,34.0203991594915 L -118.51687773735101,34.0256147929591 L -118.519514,34.027509 L -118.519726744824,34.0276081475071 L -118.53611430718101,34.0352454000966 L -118.543115,34.038508 L -118.549076,34.040200999999996 L -118.554891,34.037762 L -118.55587312992701,34.038171739517395 L -118.562149,34.04079 L -118.56714103306001,34.0413888185296 L -118.56737376440701,34.0414167357812 L -118.567985647474,34.0414901341169 L -118.56923499999999,34.04164 L -118.569735264596,34.0414979347506 L -118.574725494359,34.040080808210696 L -118.575908,34.039744999999996 L -118.579252741749,34.03979915878519 L -118.579737,34.039806999999996 L -118.583902,34.037475 L -118.584351039228,34.037595156912296 L -118.592815,34.03986 L -118.603572,34.039048 L -118.609652,34.036424 L -118.617337997816,34.0375993330502 L -118.62275700000001,34.038427999999996 L -118.623493434314,34.0381537489782 L -118.626946,34.036868 L -118.627789009915,34.036810497509 L -118.635250350277,34.0363015525377 L -118.635920764079,34.036255822988196 L -118.636314,34.036229 L -118.636463223339,34.0362626955926 L -118.643847,34.037929999999996 L -118.649901,34.037531 L -118.657381,34.038551 L -118.668358,34.038886999999995 L -118.67543,34.037479 L -118.677696,34.036139999999996 L -118.678849,34.03311 L -118.683183,34.030723 L -118.690213,34.032244999999996 L -118.697388,34.032519 L -118.706215,34.029382999999996 L -118.714155488725,34.0312553120148 L -118.714468,34.031329 L -118.719538,34.031093 L -118.732391,34.032742999999996 L -118.73246042615202,34.0327394626433 L -118.744952,34.032103 L -118.74823092966801,34.0312032585032 L -118.74989189271201,34.030747488625 L -118.752339,34.030076 L -118.756402,34.025718999999995 L -118.767741,34.025231 L -118.77905748101001,34.022571352921 L -118.783433,34.021543 L -118.787075190351,34.019555265413494 L -118.787094,34.019545 L -118.78713816340901,34.01948570476419 L -118.79191554223401,34.0130714398482 L -118.793331,34.011171 L -118.79428899999999,34.007413 L -118.800541,34.006712 L -118.803753,34.004473 L -118.805114,34.001239 L -118.806367,34.000198 L -118.80890099999999,34.001622 L -118.810435973687,34.0031156875199 L -118.82141949280101,34.0138037830643 L -118.8215584688,34.0139390210272 L -118.821579,34.013959 L -118.821958649246,34.0142329790953 L -118.83682180821101,34.024959182001595 L -118.84038,34.027527 L -118.842675913429,34.028882024856294 L -118.84670000000001,34.031257 L -118.854653,34.034214999999996 L -118.859205,34.035309 L -118.862499,34.034554 L -118.874853,34.037648 L -118.882023,34.0381 L -118.895628330318,34.0391654428878 L -118.896159,34.039207 L -118.90578099999999,34.041488 L -118.91596799999999,34.041753 L -118.921269,34.044475 L -118.928048,34.045847 L -118.931549,34.045536 L -118.93481,34.043507 L -118.938081,34.043383 L -118.944862413904,34.0454177344622 L -118.944502,34.046563 z\" /></g></g></svg>"
      ],
      "text/plain": [
       "<shapely.geometry.multipolygon.MultiPolygon at 0x7f57006708b0>"
      ]
     },
     "execution_count": 275,
     "metadata": {},
     "output_type": "execute_result"
    }
   ],
   "source": []
  },
  {
   "cell_type": "code",
   "execution_count": null,
   "metadata": {},
   "outputs": [],
   "source": []
  }
 ],
 "metadata": {
  "kernelspec": {
   "display_name": "Python 3",
   "language": "python",
   "name": "python3"
  },
  "language_info": {
   "codemirror_mode": {
    "name": "ipython",
    "version": 3
   },
   "file_extension": ".py",
   "mimetype": "text/x-python",
   "name": "python",
   "nbconvert_exporter": "python",
   "pygments_lexer": "ipython3",
   "version": "3.8.3"
  }
 },
 "nbformat": 4,
 "nbformat_minor": 4
}
